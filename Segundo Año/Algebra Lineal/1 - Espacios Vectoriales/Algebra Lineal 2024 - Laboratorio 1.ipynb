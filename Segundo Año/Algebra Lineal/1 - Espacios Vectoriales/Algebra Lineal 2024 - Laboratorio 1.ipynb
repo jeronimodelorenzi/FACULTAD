{
 "cells": [
  {
   "cell_type": "markdown",
   "id": "b3268cf3",
   "metadata": {
    "id": "b3268cf3"
   },
   "source": [
    "# Álgebra Lineal 2024 1er. cuatrimestre - Laboratorio 1"
   ]
  },
  {
   "cell_type": "markdown",
   "id": "737eed23",
   "metadata": {
    "id": "737eed23"
   },
   "source": [
    "Esta notebook elaborada por la cátedra es para trabajar los conceptos de span y li."
   ]
  },
  {
   "cell_type": "code",
   "execution_count": 1,
   "id": "a097011a",
   "metadata": {
    "id": "a097011a"
   },
   "outputs": [],
   "source": [
    "# Cargamos NumPy.\n",
    "import numpy as np\n",
    "# Cargamos Matrix desde Sympy\n",
    "from sympy import Matrix"
   ]
  },
  {
   "cell_type": "markdown",
   "id": "33b7e083",
   "metadata": {},
   "source": [
    "# 1. Span"
   ]
  },
  {
   "cell_type": "markdown",
   "id": "1f77e619",
   "metadata": {},
   "source": [
    "###  EJEMPLO 1\n",
    "\n",
    "Consideremos el ev $V=\\mathbb{R}_2[x]$.\n",
    "\n",
    "Sea $S=\\{x^2-x,x+1\\}=\\{p_1,p_2\\}$. Sean $p(x)=2x^2-x+1$ y $q(x)=x^2+x$. Veamos si $p,q\\in span(S)$.\n",
    "\n",
    "1) Observemos que $p \\in span(S)$ si existen $\\alpha, \\beta\\in\\mathbb{R}$ tales que $p(x) =  \\alpha p_1(x)+\\beta p_2(x) =  \\alpha x^2 + (-\\alpha+\\beta)x + \\beta$. Luego $$ 2x^2-x+1 = \\alpha x^2 + (-\\alpha+\\beta)x + \\beta,$$ de donde:\n",
    "\\begin{align*}\n",
    "\\alpha = & 2 \\\\\n",
    "-\\alpha + \\beta = & -1 \\\\\n",
    "\\beta = & 1, \n",
    "\\end{align*}\n",
    "que matricialmente se traduce en \n",
    "$$\\begin{pmatrix} 1 & 0 \\\\ -1 & 1  \\\\ 0 & 1 \\end{pmatrix} \\begin{pmatrix} \\alpha \\\\ \\beta \\end{pmatrix} = \\begin{pmatrix} 2 \\\\ -1 \\\\ 1 \\end{pmatrix}.$$\n",
    "La matriz aumentada del sistema es $$\\begin{pmatrix} 1 & 0 & 2 \\\\ -1 & 1 & -1 \\\\ 0 & 1 & 1 \\end{pmatrix}.$$"
   ]
  },
  {
   "cell_type": "code",
   "execution_count": 2,
   "id": "f1e9c65f",
   "metadata": {},
   "outputs": [],
   "source": [
    "A1 = Matrix([[1,0],[-1,1],[0,1]])"
   ]
  },
  {
   "cell_type": "code",
   "execution_count": 3,
   "id": "4ffd5a41",
   "metadata": {},
   "outputs": [],
   "source": [
    "p=Matrix([[2],[-1],[1]])"
   ]
  },
  {
   "cell_type": "code",
   "execution_count": 6,
   "id": "fef7248c",
   "metadata": {},
   "outputs": [],
   "source": [
    "A1p=A1.row_join(p)"
   ]
  },
  {
   "cell_type": "code",
   "execution_count": 7,
   "id": "c91982c9",
   "metadata": {},
   "outputs": [],
   "source": [
    "A1p_rref, A1p_pivots = A1p.rref()"
   ]
  },
  {
   "cell_type": "code",
   "execution_count": 8,
   "id": "7826b003",
   "metadata": {},
   "outputs": [
    {
     "data": {
      "text/latex": [
       "$\\displaystyle \\left[\\begin{matrix}1 & 0 & 2\\\\0 & 1 & 1\\\\0 & 0 & 0\\end{matrix}\\right]$"
      ],
      "text/plain": [
       "Matrix([\n",
       "[1, 0, 2],\n",
       "[0, 1, 1],\n",
       "[0, 0, 0]])"
      ]
     },
     "execution_count": 8,
     "metadata": {},
     "output_type": "execute_result"
    }
   ],
   "source": [
    "A1p_rref"
   ]
  },
  {
   "cell_type": "code",
   "execution_count": 9,
   "id": "5d4a6261",
   "metadata": {},
   "outputs": [
    {
     "data": {
      "text/plain": [
       "(0, 1)"
      ]
     },
     "execution_count": 9,
     "metadata": {},
     "output_type": "execute_result"
    }
   ],
   "source": [
    "A1p_pivots"
   ]
  },
  {
   "cell_type": "markdown",
   "id": "81f84a37",
   "metadata": {},
   "source": [
    "Esta salida la interpretamos como sigue:\n",
    "A_rref es la forma de escalón reducida de la matriz ampliada del sistema.\n",
    "A_pivots son las columnas pivot: (0,1) indica columna 1 y 2 (recordar que Python cuenta desde 0, paaaabre!).\n",
    "Interpretemos:\n",
    "- la última columna NO es pivot. Esto significa que el sistema TIENE solución.\n",
    "- la cantidad de columnas pivot (2) coincide con la cantidad de columnas de la matriz asociada al sistema (NO la ampliada). Coloquialmente: *no hay escalón largo*. Esto significa que NO HAY VARIABLES LIBRES.\n",
    "Luego, existe una única solución, y la obtenemos por sustitución hacia atrás. Así, $\\alpha = 2 $ y $\\beta=1$ son solución del sistema, lo que significa que efectivamente $p\\in span(S)$.\n"
   ]
  },
  {
   "cell_type": "markdown",
   "id": "a74abd1a",
   "metadata": {},
   "source": [
    "2) De manera análoga planteamos\n",
    " \n",
    "$$ q(x) = x^2+x = \\alpha x^2 + (-\\alpha+\\beta)x + \\beta,$$ de donde:\n",
    "\\begin{align*}\n",
    "\\alpha = & 1 \\\\\n",
    "-\\alpha + \\beta = & 1 \\\\\n",
    "\\beta = & 0, \n",
    "\\end{align*}\n",
    "que matricialmente se traduce en \n",
    "$$\\begin{pmatrix} 1 & 0 \\\\ -1 & 1  \\\\ 0 & 1 \\end{pmatrix} \\begin{pmatrix} \\alpha \\\\ \\beta \\end{pmatrix} = \\begin{pmatrix} 1 \\\\ 1 \\\\ 0 \\end{pmatrix}.$$\n",
    "La matriz aumentada del sistema es $$\\begin{pmatrix} 1 & 0 & 1 \\\\ -1 & 1 & 1 \\\\ 0 & 1 & 0 \\end{pmatrix}.$$"
   ]
  },
  {
   "cell_type": "code",
   "execution_count": 10,
   "id": "c07e3bd0",
   "metadata": {},
   "outputs": [
    {
     "data": {
      "text/latex": [
       "$\\displaystyle \\left[\\begin{matrix}1\\\\1\\\\0\\end{matrix}\\right]$"
      ],
      "text/plain": [
       "Matrix([\n",
       "[1],\n",
       "[1],\n",
       "[0]])"
      ]
     },
     "execution_count": 10,
     "metadata": {},
     "output_type": "execute_result"
    }
   ],
   "source": [
    "q=Matrix([[1],[1],[0]])\n",
    "q"
   ]
  },
  {
   "cell_type": "code",
   "execution_count": 12,
   "id": "42bf522e",
   "metadata": {},
   "outputs": [],
   "source": [
    "A1q=A1.row_join(q)"
   ]
  },
  {
   "cell_type": "code",
   "execution_count": 13,
   "id": "ed54e916",
   "metadata": {},
   "outputs": [],
   "source": [
    "A1q_rref, A1q_pivots = A1q.rref()"
   ]
  },
  {
   "cell_type": "code",
   "execution_count": 14,
   "id": "13b2ee1c",
   "metadata": {},
   "outputs": [
    {
     "data": {
      "text/latex": [
       "$\\displaystyle \\left[\\begin{matrix}1 & 0 & 0\\\\0 & 1 & 0\\\\0 & 0 & 1\\end{matrix}\\right]$"
      ],
      "text/plain": [
       "Matrix([\n",
       "[1, 0, 0],\n",
       "[0, 1, 0],\n",
       "[0, 0, 1]])"
      ]
     },
     "execution_count": 14,
     "metadata": {},
     "output_type": "execute_result"
    }
   ],
   "source": [
    "A1q_rref"
   ]
  },
  {
   "cell_type": "code",
   "execution_count": 15,
   "id": "7dc004cf",
   "metadata": {},
   "outputs": [
    {
     "data": {
      "text/plain": [
       "(0, 1, 2)"
      ]
     },
     "execution_count": 15,
     "metadata": {},
     "output_type": "execute_result"
    }
   ],
   "source": [
    "A1q_pivots"
   ]
  },
  {
   "cell_type": "markdown",
   "id": "a4a2d028",
   "metadata": {},
   "source": [
    "Esta salida la interpretamos como sigue:\n",
    "- la última columna ES pivot. Esto significa que el sistema NO TIENE solución.\n",
    "Como el sistema no tiene solución, podemos asegurar que $q\\notin span(S)$."
   ]
  },
  {
   "cell_type": "markdown",
   "id": "b9caab1b",
   "metadata": {},
   "source": [
    "###  EJEMPLO 2\n",
    "\n",
    "Considerar $V=\\mathbb{R}_5[x]$.\n",
    "Sea $S=\\{p_1,p_2,p_3,p_4,p_5\\}$ donde\n",
    "\\begin{align*}\n",
    "p_1(x) = &  x^5 + 2 x^4 + x^3+2x^2+x+1 \\\\ \n",
    "p_2(x) = &  x^5 + - x^3+2x+1 \\\\ \n",
    "p_3(x) = &  -x^5 - 2 x^4 - x^3+x^2-2 \\\\\n",
    "p_4(x) = &  x^5 -2 x^4-3x^3+x^2+4x \\\\\n",
    "p_(x) = &  x^5  - x^3+x^2+1\n",
    "\\end{align*}\n",
    "Sean $r(x)=2x^5-x^4-3x^3-x^2+x$, $t(x)=2x^5-2x^3+3x^2+5x+1$. ¿$r,t\\in span(S)$?"
   ]
  },
  {
   "cell_type": "code",
   "execution_count": 90,
   "id": "30975a0a",
   "metadata": {},
   "outputs": [
    {
     "data": {
      "text/latex": [
       "$\\displaystyle \\left[\\begin{matrix}1 & 1 & -1 & 1 & 1\\\\2 & 0 & -2 & -2 & 0\\\\1 & -1 & -1 & -3 & -1\\\\2 & 0 & 1 & 1 & 1\\\\1 & 2 & 0 & 4 & 0\\\\1 & 1 & -2 & 0 & 1\\end{matrix}\\right]$"
      ],
      "text/plain": [
       "Matrix([\n",
       "[1,  1, -1,  1,  1],\n",
       "[2,  0, -2, -2,  0],\n",
       "[1, -1, -1, -3, -1],\n",
       "[2,  0,  1,  1,  1],\n",
       "[1,  2,  0,  4,  0],\n",
       "[1,  1, -2,  0,  1]])"
      ]
     },
     "execution_count": 90,
     "metadata": {},
     "output_type": "execute_result"
    }
   ],
   "source": [
    "A2 = Matrix([[1,1,-1,1,1],[2,0,-2,-2,0],[1,-1,-1,-3,-1],[2,0,1,1,1],[1,2,0,4,0],[1,1,-2,0,1]])\n",
    "A2"
   ]
  },
  {
   "cell_type": "markdown",
   "id": "385a310c",
   "metadata": {},
   "source": [
    "$A\\in \\mathbb{R}^{6\\times 5}$"
   ]
  },
  {
   "cell_type": "code",
   "execution_count": 19,
   "id": "6285b45d",
   "metadata": {},
   "outputs": [
    {
     "data": {
      "text/latex": [
       "$\\displaystyle \\left[\\begin{matrix}2\\\\-1\\\\-3\\\\-1\\\\1\\\\0\\end{matrix}\\right]$"
      ],
      "text/plain": [
       "Matrix([\n",
       "[ 2],\n",
       "[-1],\n",
       "[-3],\n",
       "[-1],\n",
       "[ 1],\n",
       "[ 0]])"
      ]
     },
     "execution_count": 19,
     "metadata": {},
     "output_type": "execute_result"
    }
   ],
   "source": [
    "r=Matrix([[2],[-1],[-3],[-1],[1],[0]])\n",
    "r"
   ]
  },
  {
   "cell_type": "code",
   "execution_count": 20,
   "id": "9b2ae3d1",
   "metadata": {},
   "outputs": [
    {
     "data": {
      "text/latex": [
       "$\\displaystyle \\left[\\begin{matrix}1 & 1 & -1 & 1 & 1 & 2\\\\2 & 0 & -2 & -2 & 0 & -1\\\\1 & -1 & -1 & -3 & -1 & -3\\\\2 & 0 & 1 & 1 & 1 & -1\\\\1 & 2 & 0 & 4 & 0 & 1\\\\1 & 1 & -2 & 0 & 1 & 0\\end{matrix}\\right]$"
      ],
      "text/plain": [
       "Matrix([\n",
       "[1,  1, -1,  1,  1,  2],\n",
       "[2,  0, -2, -2,  0, -1],\n",
       "[1, -1, -1, -3, -1, -3],\n",
       "[2,  0,  1,  1,  1, -1],\n",
       "[1,  2,  0,  4,  0,  1],\n",
       "[1,  1, -2,  0,  1,  0]])"
      ]
     },
     "execution_count": 20,
     "metadata": {},
     "output_type": "execute_result"
    }
   ],
   "source": [
    "M_ampliada_r = A2.row_join(r)\n",
    "M_ampliada_r"
   ]
  },
  {
   "cell_type": "markdown",
   "id": "e98d0fe0",
   "metadata": {},
   "source": [
    "$M_{ampliada_p} \\in \\mathbb{R}^{6\\times 6}$"
   ]
  },
  {
   "cell_type": "code",
   "execution_count": 21,
   "id": "2a60a01f",
   "metadata": {},
   "outputs": [],
   "source": [
    "M_ampliada_r_rref, M_ampliada_r_pivots = M_ampliada_r.rref()"
   ]
  },
  {
   "cell_type": "code",
   "execution_count": 22,
   "id": "342c82be",
   "metadata": {},
   "outputs": [
    {
     "data": {
      "text/latex": [
       "$\\displaystyle \\left[\\begin{matrix}1 & 0 & 0 & 0 & 0 & 0\\\\0 & 1 & 0 & 2 & 0 & 0\\\\0 & 0 & 1 & 1 & 0 & 0\\\\0 & 0 & 0 & 0 & 1 & 0\\\\0 & 0 & 0 & 0 & 0 & 1\\\\0 & 0 & 0 & 0 & 0 & 0\\end{matrix}\\right]$"
      ],
      "text/plain": [
       "Matrix([\n",
       "[1, 0, 0, 0, 0, 0],\n",
       "[0, 1, 0, 2, 0, 0],\n",
       "[0, 0, 1, 1, 0, 0],\n",
       "[0, 0, 0, 0, 1, 0],\n",
       "[0, 0, 0, 0, 0, 1],\n",
       "[0, 0, 0, 0, 0, 0]])"
      ]
     },
     "execution_count": 22,
     "metadata": {},
     "output_type": "execute_result"
    }
   ],
   "source": [
    "M_ampliada_r_rref"
   ]
  },
  {
   "cell_type": "code",
   "execution_count": 23,
   "id": "79beabbc",
   "metadata": {},
   "outputs": [
    {
     "data": {
      "text/plain": [
       "(0, 1, 2, 4, 5)"
      ]
     },
     "execution_count": 23,
     "metadata": {},
     "output_type": "execute_result"
    }
   ],
   "source": [
    "M_ampliada_r_pivots"
   ]
  },
  {
   "cell_type": "markdown",
   "id": "4d2f557d",
   "metadata": {},
   "source": [
    "Interpretemos:\n",
    "- la última columna ES pivot. Entonces el sistema NO tiene solución. O sea, $p\\notin span(S)$."
   ]
  },
  {
   "cell_type": "code",
   "execution_count": 24,
   "id": "1c92498d",
   "metadata": {},
   "outputs": [
    {
     "data": {
      "text/latex": [
       "$\\displaystyle \\left[\\begin{matrix}2\\\\0\\\\-2\\\\3\\\\5\\\\1\\end{matrix}\\right]$"
      ],
      "text/plain": [
       "Matrix([\n",
       "[ 2],\n",
       "[ 0],\n",
       "[-2],\n",
       "[ 3],\n",
       "[ 5],\n",
       "[ 1]])"
      ]
     },
     "execution_count": 24,
     "metadata": {},
     "output_type": "execute_result"
    }
   ],
   "source": [
    "t=Matrix([[2],[0],[-2],[3],[5],[1]])\n",
    "t"
   ]
  },
  {
   "cell_type": "code",
   "execution_count": 26,
   "id": "33203179",
   "metadata": {},
   "outputs": [
    {
     "data": {
      "text/latex": [
       "$\\displaystyle \\left[\\begin{matrix}1 & 1 & -1 & 1 & 1 & 2\\\\2 & 0 & -2 & -2 & 0 & 0\\\\1 & -1 & -1 & -3 & -1 & -2\\\\2 & 0 & 1 & 1 & 1 & 3\\\\1 & 2 & 0 & 4 & 0 & 5\\\\1 & 1 & -2 & 0 & 1 & 1\\end{matrix}\\right]$"
      ],
      "text/plain": [
       "Matrix([\n",
       "[1,  1, -1,  1,  1,  2],\n",
       "[2,  0, -2, -2,  0,  0],\n",
       "[1, -1, -1, -3, -1, -2],\n",
       "[2,  0,  1,  1,  1,  3],\n",
       "[1,  2,  0,  4,  0,  5],\n",
       "[1,  1, -2,  0,  1,  1]])"
      ]
     },
     "execution_count": 26,
     "metadata": {},
     "output_type": "execute_result"
    }
   ],
   "source": [
    "M_ampliada_t = A2.row_join(t)\n",
    "M_ampliada_t"
   ]
  },
  {
   "cell_type": "code",
   "execution_count": 27,
   "id": "f48e3718",
   "metadata": {},
   "outputs": [],
   "source": [
    "M_ampliada_t_rref, M_ampliada_t_pivots = M_ampliada_t.rref()"
   ]
  },
  {
   "cell_type": "code",
   "execution_count": 28,
   "id": "bae4f997",
   "metadata": {},
   "outputs": [
    {
     "data": {
      "text/latex": [
       "$\\displaystyle \\left[\\begin{matrix}1 & 0 & 0 & 0 & 0 & 1\\\\0 & 1 & 0 & 2 & 0 & 2\\\\0 & 0 & 1 & 1 & 0 & 1\\\\0 & 0 & 0 & 0 & 1 & 0\\\\0 & 0 & 0 & 0 & 0 & 0\\\\0 & 0 & 0 & 0 & 0 & 0\\end{matrix}\\right]$"
      ],
      "text/plain": [
       "Matrix([\n",
       "[1, 0, 0, 0, 0, 1],\n",
       "[0, 1, 0, 2, 0, 2],\n",
       "[0, 0, 1, 1, 0, 1],\n",
       "[0, 0, 0, 0, 1, 0],\n",
       "[0, 0, 0, 0, 0, 0],\n",
       "[0, 0, 0, 0, 0, 0]])"
      ]
     },
     "execution_count": 28,
     "metadata": {},
     "output_type": "execute_result"
    }
   ],
   "source": [
    "M_ampliada_t_rref"
   ]
  },
  {
   "cell_type": "code",
   "execution_count": 29,
   "id": "27af5b7d",
   "metadata": {},
   "outputs": [
    {
     "data": {
      "text/plain": [
       "(0, 1, 2, 4)"
      ]
     },
     "execution_count": 29,
     "metadata": {},
     "output_type": "execute_result"
    }
   ],
   "source": [
    "M_ampliada_t_pivots"
   ]
  },
  {
   "cell_type": "markdown",
   "id": "81ee0520",
   "metadata": {},
   "source": [
    "Interpretemos:\n",
    "- la última columna NO es pivot. Es decir, el sistema TIENE solución.\n",
    "- la cantidad de columnas pivot es 4, que es menor que la cantidad de elementos de $S$ (las incognitas, que son los coeficientes de la cl). Es decir que *hay escalones largos*, o sea, HAY VARIABLES LIBRES. El sitema tiene entonces infinitas soluciones.\n",
    "O sea, $q\\in span(S)$."
   ]
  },
  {
   "cell_type": "markdown",
   "id": "eb27fc92",
   "metadata": {},
   "source": [
    "# Independencia lineal"
   ]
  },
  {
   "cell_type": "markdown",
   "id": "8fe27cfd",
   "metadata": {},
   "source": [
    "## EJEMPLO 1 (cont.)\n",
    "\n",
    "Veamos si el conjunto $S=\\{p_1,p_2\\}$ es li.\n",
    "\n",
    "Para esto queremos ver que la única cl tal que $\\alpha p_1 + \\beta p_2=0$ es la trivial.\n",
    "\n",
    "Matricialmente, queremos ver que el sistema \n",
    "$$\\begin{pmatrix} 1 & 0 \\\\ -1 & 1  \\\\ 0 & 1 \\end{pmatrix} \\begin{pmatrix} \\alpha \\\\ \\beta \\end{pmatrix} = \\begin{pmatrix} 0 \\\\ 0 \\\\ 0 \\end{pmatrix}$$\n",
    "tiene solución única."
   ]
  },
  {
   "cell_type": "code",
   "execution_count": 30,
   "id": "2eb98da8",
   "metadata": {},
   "outputs": [
    {
     "data": {
      "text/latex": [
       "$\\displaystyle \\left[\\begin{matrix}0\\\\0\\\\0\\end{matrix}\\right]$"
      ],
      "text/plain": [
       "Matrix([\n",
       "[0],\n",
       "[0],\n",
       "[0]])"
      ]
     },
     "execution_count": 30,
     "metadata": {},
     "output_type": "execute_result"
    }
   ],
   "source": [
    "o1=Matrix([[0],[0],[0]])\n",
    "o1"
   ]
  },
  {
   "cell_type": "code",
   "execution_count": 33,
   "id": "28ae92e2",
   "metadata": {},
   "outputs": [
    {
     "data": {
      "text/latex": [
       "$\\displaystyle \\left[\\begin{matrix}1 & 0 & 0\\\\-1 & 1 & 0\\\\0 & 1 & 0\\end{matrix}\\right]$"
      ],
      "text/plain": [
       "Matrix([\n",
       "[ 1, 0, 0],\n",
       "[-1, 1, 0],\n",
       "[ 0, 1, 0]])"
      ]
     },
     "execution_count": 33,
     "metadata": {},
     "output_type": "execute_result"
    }
   ],
   "source": [
    "A10=A1.row_join(o1)\n",
    "A10"
   ]
  },
  {
   "cell_type": "code",
   "execution_count": 34,
   "id": "2f19ab6a",
   "metadata": {},
   "outputs": [],
   "source": [
    "A10_rref, A10_pivots = A10.rref()"
   ]
  },
  {
   "cell_type": "code",
   "execution_count": 35,
   "id": "0c706e56",
   "metadata": {},
   "outputs": [
    {
     "data": {
      "text/latex": [
       "$\\displaystyle \\left[\\begin{matrix}1 & 0 & 0\\\\0 & 1 & 0\\\\0 & 0 & 0\\end{matrix}\\right]$"
      ],
      "text/plain": [
       "Matrix([\n",
       "[1, 0, 0],\n",
       "[0, 1, 0],\n",
       "[0, 0, 0]])"
      ]
     },
     "execution_count": 35,
     "metadata": {},
     "output_type": "execute_result"
    }
   ],
   "source": [
    "A10_rref"
   ]
  },
  {
   "cell_type": "code",
   "execution_count": 36,
   "id": "885074be",
   "metadata": {},
   "outputs": [
    {
     "data": {
      "text/plain": [
       "(0, 1)"
      ]
     },
     "execution_count": 36,
     "metadata": {},
     "output_type": "execute_result"
    }
   ],
   "source": [
    "A10_pivots"
   ]
  },
  {
   "cell_type": "markdown",
   "id": "16a4a284",
   "metadata": {},
   "source": [
    "Interpretemos: \n",
    "- OBVIAMENTE la última columna NO es pivot, pues el sistema es homogéneo y TIENE SIEMPRE solución,\n",
    "- hay igual cantidad de columnas pivot que elementos de $S$, esto significa que la solución es única con lo cual el conjunto $S$ es li."
   ]
  },
  {
   "cell_type": "markdown",
   "id": "9d3ec67d",
   "metadata": {},
   "source": [
    "## EJEMPLO 2 (cont.)"
   ]
  },
  {
   "cell_type": "code",
   "execution_count": 38,
   "id": "d1edcd1d",
   "metadata": {},
   "outputs": [
    {
     "data": {
      "text/latex": [
       "$\\displaystyle \\left[\\begin{matrix}0\\\\0\\\\0\\\\0\\\\0\\\\0\\end{matrix}\\right]$"
      ],
      "text/plain": [
       "Matrix([\n",
       "[0],\n",
       "[0],\n",
       "[0],\n",
       "[0],\n",
       "[0],\n",
       "[0]])"
      ]
     },
     "execution_count": 38,
     "metadata": {},
     "output_type": "execute_result"
    }
   ],
   "source": [
    "o2=Matrix([[0],[0],[0],[0],[0],[0]])\n",
    "o2"
   ]
  },
  {
   "cell_type": "code",
   "execution_count": 40,
   "id": "4624f794",
   "metadata": {},
   "outputs": [
    {
     "data": {
      "text/latex": [
       "$\\displaystyle \\left[\\begin{matrix}1 & 1 & -1 & 1 & 1 & 0\\\\2 & 0 & -2 & -2 & 0 & 0\\\\1 & -1 & -1 & -3 & -1 & 0\\\\2 & 0 & 1 & 1 & 1 & 0\\\\1 & 2 & 0 & 4 & 0 & 0\\\\1 & 1 & -2 & 0 & 1 & 0\\end{matrix}\\right]$"
      ],
      "text/plain": [
       "Matrix([\n",
       "[1,  1, -1,  1,  1, 0],\n",
       "[2,  0, -2, -2,  0, 0],\n",
       "[1, -1, -1, -3, -1, 0],\n",
       "[2,  0,  1,  1,  1, 0],\n",
       "[1,  2,  0,  4,  0, 0],\n",
       "[1,  1, -2,  0,  1, 0]])"
      ]
     },
     "execution_count": 40,
     "metadata": {},
     "output_type": "execute_result"
    }
   ],
   "source": [
    "A20=A2.row_join(o2)\n",
    "A20"
   ]
  },
  {
   "cell_type": "code",
   "execution_count": 41,
   "id": "415319a9",
   "metadata": {},
   "outputs": [],
   "source": [
    "A20_rref, A20_pivots = A20.rref()"
   ]
  },
  {
   "cell_type": "code",
   "execution_count": 42,
   "id": "b7afc757",
   "metadata": {},
   "outputs": [
    {
     "data": {
      "text/latex": [
       "$\\displaystyle \\left[\\begin{matrix}1 & 0 & 0 & 0 & 0 & 0\\\\0 & 1 & 0 & 2 & 0 & 0\\\\0 & 0 & 1 & 1 & 0 & 0\\\\0 & 0 & 0 & 0 & 1 & 0\\\\0 & 0 & 0 & 0 & 0 & 0\\\\0 & 0 & 0 & 0 & 0 & 0\\end{matrix}\\right]$"
      ],
      "text/plain": [
       "Matrix([\n",
       "[1, 0, 0, 0, 0, 0],\n",
       "[0, 1, 0, 2, 0, 0],\n",
       "[0, 0, 1, 1, 0, 0],\n",
       "[0, 0, 0, 0, 1, 0],\n",
       "[0, 0, 0, 0, 0, 0],\n",
       "[0, 0, 0, 0, 0, 0]])"
      ]
     },
     "execution_count": 42,
     "metadata": {},
     "output_type": "execute_result"
    }
   ],
   "source": [
    "A20_rref"
   ]
  },
  {
   "cell_type": "code",
   "execution_count": 43,
   "id": "4549caa3",
   "metadata": {},
   "outputs": [
    {
     "data": {
      "text/plain": [
       "(0, 1, 2, 4)"
      ]
     },
     "execution_count": 43,
     "metadata": {},
     "output_type": "execute_result"
    }
   ],
   "source": [
    "A20_pivots"
   ]
  },
  {
   "cell_type": "markdown",
   "id": "f2ebb4d2",
   "metadata": {},
   "source": [
    "Intepretemos:\n",
    "- la última columna NO es pivot (pero ya lo sabíamos),\n",
    "- tiene 4 columnas pivots y $S$ tiene 5 elementos, luego hay una sola variable libre, pero es libre, así que las soluciones son infinitas, luego $S$ NO es li."
   ]
  },
  {
   "cell_type": "markdown",
   "id": "4cff52ff",
   "metadata": {},
   "source": [
    "# BASE"
   ]
  },
  {
   "cell_type": "markdown",
   "id": "dbc9e697",
   "metadata": {},
   "source": [
    "## EJEMPLO 1 (cont.)\n",
    "\n",
    "Ya sabemos que $S$ no es base de $\\mathbb{R}_2[x]$ pues $q\\notin span(S)$. Pero también lo podríamos haber observado de lo siguiente:"
   ]
  },
  {
   "cell_type": "code",
   "execution_count": 45,
   "id": "6d19cd0d",
   "metadata": {},
   "outputs": [
    {
     "data": {
      "text/latex": [
       "$\\displaystyle \\left[\\begin{matrix}1 & 0\\\\-1 & 1\\\\0 & 1\\end{matrix}\\right]$"
      ],
      "text/plain": [
       "Matrix([\n",
       "[ 1, 0],\n",
       "[-1, 1],\n",
       "[ 0, 1]])"
      ]
     },
     "execution_count": 45,
     "metadata": {},
     "output_type": "execute_result"
    }
   ],
   "source": [
    "A1"
   ]
  },
  {
   "cell_type": "code",
   "execution_count": 47,
   "id": "038ae970",
   "metadata": {},
   "outputs": [],
   "source": [
    "A1_rref, A1_pivots = A1.rref()"
   ]
  },
  {
   "cell_type": "code",
   "execution_count": 48,
   "id": "302dcf32",
   "metadata": {},
   "outputs": [
    {
     "data": {
      "text/latex": [
       "$\\displaystyle \\left[\\begin{matrix}1 & 0\\\\0 & 1\\\\0 & 0\\end{matrix}\\right]$"
      ],
      "text/plain": [
       "Matrix([\n",
       "[1, 0],\n",
       "[0, 1],\n",
       "[0, 0]])"
      ]
     },
     "execution_count": 48,
     "metadata": {},
     "output_type": "execute_result"
    }
   ],
   "source": [
    "A1_rref"
   ]
  },
  {
   "cell_type": "code",
   "execution_count": 49,
   "id": "f1dbeddb",
   "metadata": {},
   "outputs": [
    {
     "data": {
      "text/plain": [
       "(0, 1)"
      ]
     },
     "execution_count": 49,
     "metadata": {},
     "output_type": "execute_result"
    }
   ],
   "source": [
    "A1_pivots"
   ]
  },
  {
   "cell_type": "markdown",
   "id": "67421c89",
   "metadata": {},
   "source": [
    "Interpretamos:\n",
    "- la forma de escalón reducida de la matriz asociada al sistema que NO es la ampliada nos dice que tiene 2 pivots, de 3 filas que representan las 3 dimensiones de $\\mathbb{R}_2[x]$, esto significa que los 2 vectores de $S$ no alcanzan a generar $\\mathbb{R}_2[x]$. Si $U=span(S)$ tenemos que $dim(U)=2$, pues vimos que los elementos de $S$ son li.\n",
    "\n",
    "Queremos ahora completar a una base. ¿Cómo hacemos?\n",
    "\n",
    "La idea es la siguiente:\n",
    "\n",
    "Sea $B=\\{e1,e2,e3\\}$ la base canónica de $\\mathbb{R}_2[x]$. Unimos $S\\cup B$, nos quedamos con los elementos li (vale decir, con las columnas correspondientes a las columnas pivots de la matriz asociada)."
   ]
  },
  {
   "cell_type": "code",
   "execution_count": 53,
   "id": "083f1ef2",
   "metadata": {},
   "outputs": [],
   "source": [
    "e1=Matrix([[1],[0],[0]])\n",
    "e2=Matrix([[0],[1],[0]])\n",
    "e3=Matrix([[0],[0],[1]])"
   ]
  },
  {
   "cell_type": "code",
   "execution_count": 55,
   "id": "ea8bbf69",
   "metadata": {},
   "outputs": [
    {
     "data": {
      "text/latex": [
       "$\\displaystyle \\left[\\begin{matrix}1 & 0 & 1 & 0 & 0\\\\-1 & 1 & 0 & 1 & 0\\\\0 & 1 & 0 & 0 & 1\\end{matrix}\\right]$"
      ],
      "text/plain": [
       "Matrix([\n",
       "[ 1, 0, 1, 0, 0],\n",
       "[-1, 1, 0, 1, 0],\n",
       "[ 0, 1, 0, 0, 1]])"
      ]
     },
     "execution_count": 55,
     "metadata": {},
     "output_type": "execute_result"
    }
   ],
   "source": [
    "A1_SuB = A1.row_join(e1).row_join(e2).row_join(e3)\n",
    "A1_SuB"
   ]
  },
  {
   "cell_type": "code",
   "execution_count": 56,
   "id": "9bac9534",
   "metadata": {},
   "outputs": [],
   "source": [
    "A1_SuB_rref, A1_SuB_pivots = A1_SuB.rref() "
   ]
  },
  {
   "cell_type": "code",
   "execution_count": 58,
   "id": "a3c6fde3",
   "metadata": {},
   "outputs": [
    {
     "data": {
      "text/latex": [
       "$\\displaystyle \\left[\\begin{matrix}1 & 0 & 0 & -1 & 1\\\\0 & 1 & 0 & 0 & 1\\\\0 & 0 & 1 & 1 & -1\\end{matrix}\\right]$"
      ],
      "text/plain": [
       "Matrix([\n",
       "[1, 0, 0, -1,  1],\n",
       "[0, 1, 0,  0,  1],\n",
       "[0, 0, 1,  1, -1]])"
      ]
     },
     "execution_count": 58,
     "metadata": {},
     "output_type": "execute_result"
    }
   ],
   "source": [
    "A1_SuB_rref"
   ]
  },
  {
   "cell_type": "code",
   "execution_count": 60,
   "id": "10d0ebeb",
   "metadata": {},
   "outputs": [
    {
     "data": {
      "text/plain": [
       "(0, 1, 2)"
      ]
     },
     "execution_count": 60,
     "metadata": {},
     "output_type": "execute_result"
    }
   ],
   "source": [
    "A1_SuB_pivots"
   ]
  },
  {
   "cell_type": "markdown",
   "id": "e95c9d11",
   "metadata": {},
   "source": [
    "Así, $S\\cup \\{e_1\\}=\\{p_1,p_2,e_1\\}$ es base de $\\mathbb{R}_2[x]$. En efecto, veamos que este conjunto es li."
   ]
  },
  {
   "cell_type": "code",
   "execution_count": 61,
   "id": "29131a24",
   "metadata": {},
   "outputs": [
    {
     "data": {
      "text/latex": [
       "$\\displaystyle \\left[\\begin{matrix}1 & 0 & 1\\\\-1 & 1 & 0\\\\0 & 1 & 0\\end{matrix}\\right]$"
      ],
      "text/plain": [
       "Matrix([\n",
       "[ 1, 0, 1],\n",
       "[-1, 1, 0],\n",
       "[ 0, 1, 0]])"
      ]
     },
     "execution_count": 61,
     "metadata": {},
     "output_type": "execute_result"
    }
   ],
   "source": [
    "A1_Se1 = A1.row_join(e1)\n",
    "A1_Se1"
   ]
  },
  {
   "cell_type": "code",
   "execution_count": 62,
   "id": "3decd779",
   "metadata": {},
   "outputs": [],
   "source": [
    "A1_Se1_rref, A1_Se1_pivots = A1_Se1.rref()"
   ]
  },
  {
   "cell_type": "code",
   "execution_count": 63,
   "id": "5ac43afe",
   "metadata": {},
   "outputs": [
    {
     "data": {
      "text/latex": [
       "$\\displaystyle \\left[\\begin{matrix}1 & 0 & 0\\\\0 & 1 & 0\\\\0 & 0 & 1\\end{matrix}\\right]$"
      ],
      "text/plain": [
       "Matrix([\n",
       "[1, 0, 0],\n",
       "[0, 1, 0],\n",
       "[0, 0, 1]])"
      ]
     },
     "execution_count": 63,
     "metadata": {},
     "output_type": "execute_result"
    }
   ],
   "source": [
    "A1_Se1_rref"
   ]
  },
  {
   "cell_type": "code",
   "execution_count": 64,
   "id": "96b21c25",
   "metadata": {},
   "outputs": [
    {
     "data": {
      "text/plain": [
       "(0, 1, 2)"
      ]
     },
     "execution_count": 64,
     "metadata": {},
     "output_type": "execute_result"
    }
   ],
   "source": [
    "A1_Se1_pivots"
   ]
  },
  {
   "cell_type": "markdown",
   "id": "120ce4ab",
   "metadata": {},
   "source": [
    "## EJEMPLO 2 (cont.)\n",
    "\n",
    "Haremos lo mismo con $S$ en el ejemplo 2."
   ]
  },
  {
   "cell_type": "code",
   "execution_count": 65,
   "id": "f46edeb9",
   "metadata": {},
   "outputs": [],
   "source": [
    "v1=Matrix([[1],[0],[0],[0],[0],[0]])\n",
    "v2=Matrix([[0],[1],[0],[0],[0],[0]])\n",
    "v3=Matrix([[0],[0],[1],[0],[0],[0]])\n",
    "v4=Matrix([[0],[0],[0],[1],[0],[0]])\n",
    "v5=Matrix([[0],[0],[0],[0],[1],[0]])\n",
    "v6=Matrix([[0],[0],[0],[0],[0],[1]])"
   ]
  },
  {
   "cell_type": "code",
   "execution_count": 67,
   "id": "67289e95",
   "metadata": {},
   "outputs": [
    {
     "data": {
      "text/latex": [
       "$\\displaystyle \\left[\\begin{array}{ccccccccccc}1 & 1 & -1 & 1 & 1 & 1 & 0 & 0 & 0 & 0 & 0\\\\2 & 0 & -2 & -2 & 0 & 0 & 1 & 0 & 0 & 0 & 0\\\\1 & -1 & -1 & -3 & -1 & 0 & 0 & 1 & 0 & 0 & 0\\\\2 & 0 & 1 & 1 & 1 & 0 & 0 & 0 & 1 & 0 & 0\\\\1 & 2 & 0 & 4 & 0 & 0 & 0 & 0 & 0 & 1 & 0\\\\1 & 1 & -2 & 0 & 1 & 0 & 0 & 0 & 0 & 0 & 1\\end{array}\\right]$"
      ],
      "text/plain": [
       "Matrix([\n",
       "[1,  1, -1,  1,  1, 1, 0, 0, 0, 0, 0],\n",
       "[2,  0, -2, -2,  0, 0, 1, 0, 0, 0, 0],\n",
       "[1, -1, -1, -3, -1, 0, 0, 1, 0, 0, 0],\n",
       "[2,  0,  1,  1,  1, 0, 0, 0, 1, 0, 0],\n",
       "[1,  2,  0,  4,  0, 0, 0, 0, 0, 1, 0],\n",
       "[1,  1, -2,  0,  1, 0, 0, 0, 0, 0, 1]])"
      ]
     },
     "execution_count": 67,
     "metadata": {},
     "output_type": "execute_result"
    }
   ],
   "source": [
    "A2_SuB = A2.row_join(v1).row_join(v2).row_join(v3).row_join(v4).row_join(v5).row_join(v6)\n",
    "A2_SuB"
   ]
  },
  {
   "cell_type": "code",
   "execution_count": 68,
   "id": "ab7d488d",
   "metadata": {},
   "outputs": [],
   "source": [
    "A2_SuB_rref, A2_SuB_pivots = A2_SuB.rref()"
   ]
  },
  {
   "cell_type": "code",
   "execution_count": 69,
   "id": "54728046",
   "metadata": {},
   "outputs": [
    {
     "data": {
      "text/latex": [
       "$\\displaystyle \\left[\\begin{array}{ccccccccccc}1 & 0 & 0 & 0 & 0 & 0 & 0 & \\frac{2}{7} & \\frac{2}{7} & \\frac{1}{7} & 0\\\\0 & 1 & 0 & 2 & 0 & 0 & 0 & - \\frac{1}{7} & - \\frac{1}{7} & \\frac{3}{7} & 0\\\\0 & 0 & 1 & 1 & 0 & 0 & 0 & - \\frac{1}{7} & \\frac{4}{21} & \\frac{2}{21} & - \\frac{1}{3}\\\\0 & 0 & 0 & 0 & 1 & 0 & 0 & - \\frac{3}{7} & \\frac{5}{21} & - \\frac{8}{21} & \\frac{1}{3}\\\\0 & 0 & 0 & 0 & 0 & 1 & 0 & \\frac{1}{7} & - \\frac{4}{21} & - \\frac{2}{21} & - \\frac{2}{3}\\\\0 & 0 & 0 & 0 & 0 & 0 & 1 & - \\frac{6}{7} & - \\frac{4}{21} & - \\frac{2}{21} & - \\frac{2}{3}\\end{array}\\right]$"
      ],
      "text/plain": [
       "Matrix([\n",
       "[1, 0, 0, 0, 0, 0, 0,  2/7,   2/7,   1/7,    0],\n",
       "[0, 1, 0, 2, 0, 0, 0, -1/7,  -1/7,   3/7,    0],\n",
       "[0, 0, 1, 1, 0, 0, 0, -1/7,  4/21,  2/21, -1/3],\n",
       "[0, 0, 0, 0, 1, 0, 0, -3/7,  5/21, -8/21,  1/3],\n",
       "[0, 0, 0, 0, 0, 1, 0,  1/7, -4/21, -2/21, -2/3],\n",
       "[0, 0, 0, 0, 0, 0, 1, -6/7, -4/21, -2/21, -2/3]])"
      ]
     },
     "execution_count": 69,
     "metadata": {},
     "output_type": "execute_result"
    }
   ],
   "source": [
    "A2_SuB_rref"
   ]
  },
  {
   "cell_type": "code",
   "execution_count": 70,
   "id": "d07b1eec",
   "metadata": {},
   "outputs": [
    {
     "data": {
      "text/plain": [
       "(0, 1, 2, 4, 5, 6)"
      ]
     },
     "execution_count": 70,
     "metadata": {},
     "output_type": "execute_result"
    }
   ],
   "source": [
    "A2_SuB_pivots"
   ]
  },
  {
   "cell_type": "markdown",
   "id": "f4bbfdf4",
   "metadata": {},
   "source": [
    "Así, las columnas 1,2,3,5,6 y 7 son li, luego los elementos que forman base son $\\{p_1,p_2,p_3,p_5,e_1,e_2\\}$. En efecto:"
   ]
  },
  {
   "cell_type": "code",
   "execution_count": 91,
   "id": "639d0898",
   "metadata": {},
   "outputs": [],
   "source": [
    "#Tomamos A2 y le quitamos la columna correspondiente a p_4 OJO que la borra forever\n",
    "\n",
    "A2_sinp4 = A2.copy()"
   ]
  },
  {
   "cell_type": "code",
   "execution_count": 92,
   "id": "37e890d6",
   "metadata": {},
   "outputs": [],
   "source": [
    "A2_sinp4.col_del(3)"
   ]
  },
  {
   "cell_type": "code",
   "execution_count": 93,
   "id": "4c70666c",
   "metadata": {},
   "outputs": [
    {
     "data": {
      "text/latex": [
       "$\\displaystyle \\left[\\begin{matrix}1 & 1 & -1 & 1 & 1\\\\2 & 0 & -2 & -2 & 0\\\\1 & -1 & -1 & -3 & -1\\\\2 & 0 & 1 & 1 & 1\\\\1 & 2 & 0 & 4 & 0\\\\1 & 1 & -2 & 0 & 1\\end{matrix}\\right]$"
      ],
      "text/plain": [
       "Matrix([\n",
       "[1,  1, -1,  1,  1],\n",
       "[2,  0, -2, -2,  0],\n",
       "[1, -1, -1, -3, -1],\n",
       "[2,  0,  1,  1,  1],\n",
       "[1,  2,  0,  4,  0],\n",
       "[1,  1, -2,  0,  1]])"
      ]
     },
     "execution_count": 93,
     "metadata": {},
     "output_type": "execute_result"
    }
   ],
   "source": [
    "A2"
   ]
  },
  {
   "cell_type": "code",
   "execution_count": 94,
   "id": "4c8a4a9b",
   "metadata": {},
   "outputs": [
    {
     "data": {
      "text/latex": [
       "$\\displaystyle \\left[\\begin{matrix}1 & 1 & -1 & 1\\\\2 & 0 & -2 & 0\\\\1 & -1 & -1 & -1\\\\2 & 0 & 1 & 1\\\\1 & 2 & 0 & 0\\\\1 & 1 & -2 & 1\\end{matrix}\\right]$"
      ],
      "text/plain": [
       "Matrix([\n",
       "[1,  1, -1,  1],\n",
       "[2,  0, -2,  0],\n",
       "[1, -1, -1, -1],\n",
       "[2,  0,  1,  1],\n",
       "[1,  2,  0,  0],\n",
       "[1,  1, -2,  1]])"
      ]
     },
     "execution_count": 94,
     "metadata": {},
     "output_type": "execute_result"
    }
   ],
   "source": [
    "A2_sinp4"
   ]
  },
  {
   "cell_type": "code",
   "execution_count": 97,
   "id": "35ac6a2d",
   "metadata": {},
   "outputs": [],
   "source": [
    "A2_sinp4_e1e2 = A2_sinp4.row_join(v1).row_join(v2)"
   ]
  },
  {
   "cell_type": "code",
   "execution_count": 98,
   "id": "8dd283d7",
   "metadata": {},
   "outputs": [
    {
     "data": {
      "text/latex": [
       "$\\displaystyle \\left[\\begin{matrix}1 & 1 & -1 & 1 & 1 & 0\\\\2 & 0 & -2 & 0 & 0 & 1\\\\1 & -1 & -1 & -1 & 0 & 0\\\\2 & 0 & 1 & 1 & 0 & 0\\\\1 & 2 & 0 & 0 & 0 & 0\\\\1 & 1 & -2 & 1 & 0 & 0\\end{matrix}\\right]$"
      ],
      "text/plain": [
       "Matrix([\n",
       "[1,  1, -1,  1, 1, 0],\n",
       "[2,  0, -2,  0, 0, 1],\n",
       "[1, -1, -1, -1, 0, 0],\n",
       "[2,  0,  1,  1, 0, 0],\n",
       "[1,  2,  0,  0, 0, 0],\n",
       "[1,  1, -2,  1, 0, 0]])"
      ]
     },
     "execution_count": 98,
     "metadata": {},
     "output_type": "execute_result"
    }
   ],
   "source": [
    "A2_sinp4_e1e2"
   ]
  },
  {
   "cell_type": "code",
   "execution_count": 99,
   "id": "afa50def",
   "metadata": {},
   "outputs": [],
   "source": [
    "A2_sinp4_e1e2_rref, A2_sinp4_e1e2_pivots = A2_sinp4_e1e2.rref()"
   ]
  },
  {
   "cell_type": "code",
   "execution_count": 101,
   "id": "32140c4d",
   "metadata": {},
   "outputs": [
    {
     "data": {
      "text/latex": [
       "$\\displaystyle \\left[\\begin{matrix}1 & 0 & 0 & 0 & 0 & 0\\\\0 & 1 & 0 & 0 & 0 & 0\\\\0 & 0 & 1 & 0 & 0 & 0\\\\0 & 0 & 0 & 1 & 0 & 0\\\\0 & 0 & 0 & 0 & 1 & 0\\\\0 & 0 & 0 & 0 & 0 & 1\\end{matrix}\\right]$"
      ],
      "text/plain": [
       "Matrix([\n",
       "[1, 0, 0, 0, 0, 0],\n",
       "[0, 1, 0, 0, 0, 0],\n",
       "[0, 0, 1, 0, 0, 0],\n",
       "[0, 0, 0, 1, 0, 0],\n",
       "[0, 0, 0, 0, 1, 0],\n",
       "[0, 0, 0, 0, 0, 1]])"
      ]
     },
     "execution_count": 101,
     "metadata": {},
     "output_type": "execute_result"
    }
   ],
   "source": [
    "A2_sinp4_e1e2_rref"
   ]
  },
  {
   "cell_type": "code",
   "execution_count": 102,
   "id": "c4461419",
   "metadata": {},
   "outputs": [
    {
     "data": {
      "text/plain": [
       "(0, 1, 2, 3, 4, 5)"
      ]
     },
     "execution_count": 102,
     "metadata": {},
     "output_type": "execute_result"
    }
   ],
   "source": [
    "A2_sinp4_e1e2_pivots"
   ]
  },
  {
   "cell_type": "markdown",
   "id": "688eacd7",
   "metadata": {},
   "source": [
    "# EJERCICIOS\n",
    "\n",
    "Elegir 5 ejercicios (o items de) de la práctica 1 que puedan resolverse de la manera presentada en esta notebook."
   ]
  },
  {
   "cell_type": "markdown",
   "id": "eb912b33",
   "metadata": {},
   "source": [
    "---\n",
    "Estas notebooks fueron confeccionadas pa ra la asignatura Álgebra Lineal correspondiente al primer cuatrimestre de segundo año de la Licenciatura en Cs. de la Computación y al redictado para la Licenciatura en Matemática y el Profesorado en Matemática de la Escuela de Cs. Exactas y Naturales de la Facultad de Cs. Exactas, Ingeniería y Agrimensura. La docente responsable es Isolda E. Cardoso (isolda@fceia.unr.edu.ar)\n",
    "\n",
    "En caso de reproducirlas, se solicita citar la fuente."
   ]
  },
  {
   "cell_type": "code",
   "execution_count": null,
   "id": "4267e432",
   "metadata": {},
   "outputs": [],
   "source": []
  }
 ],
 "metadata": {
  "colab": {
   "provenance": []
  },
  "kernelspec": {
   "display_name": "Python 3 (ipykernel)",
   "language": "python",
   "name": "python3"
  },
  "language_info": {
   "codemirror_mode": {
    "name": "ipython",
    "version": 3
   },
   "file_extension": ".py",
   "mimetype": "text/x-python",
   "name": "python",
   "nbconvert_exporter": "python",
   "pygments_lexer": "ipython3",
   "version": "3.9.6"
  }
 },
 "nbformat": 4,
 "nbformat_minor": 5
}
