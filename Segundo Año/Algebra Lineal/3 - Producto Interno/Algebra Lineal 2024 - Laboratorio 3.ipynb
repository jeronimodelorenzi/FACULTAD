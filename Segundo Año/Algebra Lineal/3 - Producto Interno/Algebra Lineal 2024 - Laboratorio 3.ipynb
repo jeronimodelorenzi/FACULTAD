{
 "cells": [
  {
   "cell_type": "markdown",
   "id": "b3268cf3",
   "metadata": {
    "id": "b3268cf3"
   },
   "source": [
    "# Álgebra Lineal 2024 1er. cuatrimestre - Laboratorio 3"
   ]
  },
  {
   "cell_type": "markdown",
   "id": "737eed23",
   "metadata": {
    "id": "737eed23"
   },
   "source": [
    "Esta notebook elaborada por la cátedra es para trabajar ortogonalidad. Clave: programaremos el proceso de Gram-Schmidt."
   ]
  },
  {
   "cell_type": "code",
   "execution_count": 1,
   "id": "93402f35",
   "metadata": {
    "id": "a097011a"
   },
   "outputs": [],
   "source": [
    "# Cargamos NumPy.\n",
    "import numpy as np\n",
    "# Cargamos Matrix desde Sympy\n",
    "from sympy import Matrix"
   ]
  },
  {
   "cell_type": "markdown",
   "id": "24abb4ec",
   "metadata": {},
   "source": [
    "## 1. Matriz asocidada a un producto interno"
   ]
  },
  {
   "cell_type": "markdown",
   "id": "d6b91665",
   "metadata": {},
   "source": [
    "### EJEMPLO 1\n",
    "\n",
    "Consideremos el ev $W=\\mathbb{R}^{3\\times 2}$.\n",
    "El producto interno canónico en $W$ se define por $\\langle A , B \\rangle = tr(AB)$.\n",
    "Si su base canónica es $B_W=\\{E_{ij}: i=1,2,3, j=1,2\\}=\\{M_k:k=1,\\dots,6\\}$, la matriz asociada a este producto interno es $g = (tr(M_iM_j^t))$.\n",
    "Deberíamos tener que $g=Id_6$."
   ]
  },
  {
   "cell_type": "code",
   "execution_count": 2,
   "id": "1a5eb7ae",
   "metadata": {},
   "outputs": [],
   "source": [
    "from sympy.matrices import zeros"
   ]
  },
  {
   "cell_type": "code",
   "execution_count": 3,
   "id": "078e9849",
   "metadata": {},
   "outputs": [],
   "source": [
    "# Armamos la base ordenada\n",
    "Base = []\n",
    "for i in range(3):\n",
    "    for j in range(2):\n",
    "        M = zeros(3,2)\n",
    "        M[i,j]=1\n",
    "        Base.append(M)"
   ]
  },
  {
   "cell_type": "code",
   "execution_count": 4,
   "id": "21cb937b",
   "metadata": {},
   "outputs": [
    {
     "data": {
      "text/latex": [
       "$\\displaystyle \\left[\\begin{matrix}1 & 0 & 0 & 0 & 0 & 0\\\\0 & 1 & 0 & 0 & 0 & 0\\\\0 & 0 & 1 & 0 & 0 & 0\\\\0 & 0 & 0 & 1 & 0 & 0\\\\0 & 0 & 0 & 0 & 1 & 0\\\\0 & 0 & 0 & 0 & 0 & 1\\end{matrix}\\right]$"
      ],
      "text/plain": [
       "Matrix([\n",
       "[1, 0, 0, 0, 0, 0],\n",
       "[0, 1, 0, 0, 0, 0],\n",
       "[0, 0, 1, 0, 0, 0],\n",
       "[0, 0, 0, 1, 0, 0],\n",
       "[0, 0, 0, 0, 1, 0],\n",
       "[0, 0, 0, 0, 0, 1]])"
      ]
     },
     "execution_count": 4,
     "metadata": {},
     "output_type": "execute_result"
    }
   ],
   "source": [
    "# Armamos la matriz del producto interno\n",
    "g = zeros(6,6)\n",
    "for i in range(6):\n",
    "    for j in range(6):\n",
    "        A = Base[i]\n",
    "        B = Base[j].transpose()\n",
    "        p = (A*B).trace()\n",
    "        g[i,j]=p\n",
    "g"
   ]
  },
  {
   "cell_type": "markdown",
   "id": "02be73f5",
   "metadata": {},
   "source": [
    "Cambiemos la base y calculemos la matriz asociada al producto interno en esta nueva base. Tenemos dos formas: o calculamos sus entradas o calculamos la matriz de cambio de base.\n",
    "\n",
    "Sea $B'=\\{A_1,\\dots,A_6\\}$ dada por $A_1=\\begin{pmatrix} 1 & -1 \\\\ 0 & 2 \\\\ 0 & 0 \\end{pmatrix}$, $A_2=\\begin{pmatrix} 2 & 1 \\\\ -1 & 0 \\\\ 1 & 0 \\end{pmatrix}$, $A_3=\\begin{pmatrix} 1 & 0 \\\\ 0 & 1 \\\\ 1 & 1 \\end{pmatrix}$, $A_4=\\begin{pmatrix} -1 & 2 \\\\ 1 & -1 \\\\ 2 & 1 \\end{pmatrix}$, $A_5=\\begin{pmatrix} 1 & 0 \\\\ 0 & 1 \\\\ -1 & 0 \\end{pmatrix}$ y $A_6=\\begin{pmatrix} 1 & 0 \\\\ -1 & -1 \\\\ 2 & 0 \\end{pmatrix}$.\n",
    "\n",
    "EJERCICIO: Probar que $B'$ es base.\n",
    "\n",
    "La matriz que nos interesa es $g_p = (\\langle A_i,A_j \\rangle)$. Podemos hacer el cálculo directo o armarmos la matriz de cambio de base $C_{B B'}$ y luego hacer $g_p = C_{B B'} g C_{B' B}$.\n",
    "\n",
    "EJERCICIO: Hallar $C_{B B'}$."
   ]
  },
  {
   "cell_type": "code",
   "execution_count": 5,
   "id": "a32e352e",
   "metadata": {},
   "outputs": [],
   "source": [
    "# Armamos la base B' como lista, también una lista de los vectores de coordenadas\n",
    "Base_p = []\n",
    "Base_p_cbc = []\n",
    "\n",
    "A_1_cbc = [1, -1,0,2,0,0]\n",
    "A_1 = Matrix(3,2, A_1_cbc)\n",
    "Base_p.append(A_1)\n",
    "Base_p_cbc.append(A_1_cbc)\n",
    "\n",
    "A_2_cbc = [2,1,-1,0,1,0]\n",
    "A_2 = Matrix(3,2, A_2_cbc)\n",
    "Base_p.append(A_2)\n",
    "Base_p_cbc.append(A_2_cbc)\n",
    "\n",
    "A_3_cbc = [1,0,0,1,1,1]\n",
    "A_3 = Matrix(3,2, A_3_cbc)\n",
    "Base_p.append(A_3)\n",
    "Base_p_cbc.append(A_3_cbc)\n",
    "                  \n",
    "A_4_cbc = [-1,2,1,-1,2,1]\n",
    "A_4 = Matrix(3,2, A_4_cbc)\n",
    "Base_p.append(A_4)\n",
    "Base_p_cbc.append(A_4_cbc)\n",
    "                  \n",
    "A_5_cbc = [1,0,0,1,-1,0]\n",
    "A_5 = Matrix(3,2, A_5_cbc)\n",
    "Base_p.append(A_5)\n",
    "Base_p_cbc.append(A_5_cbc)\n",
    "                  \n",
    "A_6_cbc = [1,0,-1,-1,2,0]\n",
    "A_6 = Matrix(3,2, A_6_cbc)\n",
    "Base_p.append(A_6)\n",
    "Base_p_cbc.append(A_6_cbc)"
   ]
  },
  {
   "cell_type": "code",
   "execution_count": 6,
   "id": "29a3bd3d",
   "metadata": {
    "scrolled": true
   },
   "outputs": [
    {
     "data": {
      "text/latex": [
       "$\\displaystyle \\left[\\begin{matrix}1 & 2 & 1 & -1 & 1 & 1\\\\-1 & 1 & 0 & 2 & 0 & 0\\\\0 & -1 & 0 & 1 & 0 & -1\\\\2 & 0 & 1 & -1 & 1 & -1\\\\0 & 1 & 1 & 2 & -1 & 2\\\\0 & 0 & 1 & 1 & 0 & 0\\end{matrix}\\right]$"
      ],
      "text/plain": [
       "Matrix([\n",
       "[ 1,  2, 1, -1,  1,  1],\n",
       "[-1,  1, 0,  2,  0,  0],\n",
       "[ 0, -1, 0,  1,  0, -1],\n",
       "[ 2,  0, 1, -1,  1, -1],\n",
       "[ 0,  1, 1,  2, -1,  2],\n",
       "[ 0,  0, 1,  1,  0,  0]])"
      ]
     },
     "execution_count": 6,
     "metadata": {},
     "output_type": "execute_result"
    }
   ],
   "source": [
    "# SPOILER: PROBAMOS QUE ES BASE\n",
    "A = zeros(6,6)\n",
    "for i in range(6):\n",
    "    vec = Base_p_cbc[i]\n",
    "    for j in range(6):\n",
    "        coe = vec[j]\n",
    "        A[j,i] = coe\n",
    "A"
   ]
  },
  {
   "cell_type": "code",
   "execution_count": 7,
   "id": "44566227",
   "metadata": {},
   "outputs": [
    {
     "data": {
      "text/plain": [
       "(Matrix([\n",
       " [1, 0, 0, 0, 0, 0],\n",
       " [0, 1, 0, 0, 0, 0],\n",
       " [0, 0, 1, 0, 0, 0],\n",
       " [0, 0, 0, 1, 0, 0],\n",
       " [0, 0, 0, 0, 1, 0],\n",
       " [0, 0, 0, 0, 0, 1]]),\n",
       " (0, 1, 2, 3, 4, 5))"
      ]
     },
     "execution_count": 7,
     "metadata": {},
     "output_type": "execute_result"
    }
   ],
   "source": [
    "A_rref, A_pivots = A.rref()\n",
    "A_rref, A_pivots"
   ]
  },
  {
   "cell_type": "markdown",
   "id": "03e0563b",
   "metadata": {},
   "source": [
    "Observemos que esta matriz que hemos calculado tiene en sus columnas las coordenadas de los vectores de la matriz $B'$ en términos de la matriz $B$. Es decir, $A = C_{B' B}$."
   ]
  },
  {
   "cell_type": "code",
   "execution_count": 8,
   "id": "894c9410",
   "metadata": {
    "scrolled": true
   },
   "outputs": [
    {
     "data": {
      "text/latex": [
       "$\\displaystyle \\left[\\begin{matrix}6 & 1 & 3 & -5 & 3 & -1\\\\1 & 7 & 3 & 1 & 1 & 5\\\\3 & 3 & 4 & 1 & 1 & 2\\\\-5 & 1 & 1 & 12 & -4 & 3\\\\3 & 1 & 1 & -4 & 3 & -2\\\\-1 & 5 & 2 & 3 & -2 & 7\\end{matrix}\\right]$"
      ],
      "text/plain": [
       "Matrix([\n",
       "[ 6, 1, 3, -5,  3, -1],\n",
       "[ 1, 7, 3,  1,  1,  5],\n",
       "[ 3, 3, 4,  1,  1,  2],\n",
       "[-5, 1, 1, 12, -4,  3],\n",
       "[ 3, 1, 1, -4,  3, -2],\n",
       "[-1, 5, 2,  3, -2,  7]])"
      ]
     },
     "execution_count": 8,
     "metadata": {},
     "output_type": "execute_result"
    }
   ],
   "source": [
    "# Armamos la matriz en la nueva base\n",
    "g_p = zeros(6,6)\n",
    "for i in range(6):\n",
    "    for j in range(6):\n",
    "        X = Base_p[i]\n",
    "        Y = Base_p[j].transpose()\n",
    "        p = (X*Y).trace()\n",
    "        g_p[i,j]=p\n",
    "g_p"
   ]
  },
  {
   "cell_type": "code",
   "execution_count": 9,
   "id": "063c90ad",
   "metadata": {},
   "outputs": [
    {
     "data": {
      "text/plain": [
       "True"
      ]
     },
     "execution_count": 9,
     "metadata": {},
     "output_type": "execute_result"
    }
   ],
   "source": [
    "A.is_square"
   ]
  },
  {
   "cell_type": "code",
   "execution_count": 10,
   "id": "3a7ba1cc",
   "metadata": {},
   "outputs": [
    {
     "data": {
      "text/plain": [
       "(Matrix([\n",
       " [1, 0, 0, 0, 0, 0],\n",
       " [0, 1, 0, 0, 0, 0],\n",
       " [0, 0, 1, 0, 0, 0],\n",
       " [0, 0, 0, 1, 0, 0],\n",
       " [0, 0, 0, 0, 1, 0],\n",
       " [0, 0, 0, 0, 0, 1]]),\n",
       " True)"
      ]
     },
     "execution_count": 10,
     "metadata": {},
     "output_type": "execute_result"
    }
   ],
   "source": [
    "(A.inverse_ADJ()).transpose() * g_p * A.inverse_ADJ(), (A.inverse_ADJ()).transpose() * g_p * A.inverse_ADJ() == g "
   ]
  },
  {
   "cell_type": "markdown",
   "id": "1908a035",
   "metadata": {},
   "source": [
    "## 2. Proceso de Gram-Schmidt"
   ]
  },
  {
   "cell_type": "markdown",
   "id": "14f405d6",
   "metadata": {},
   "source": [
    "### EJEMPLO 2\n",
    "\n",
    "\n",
    "Consideremos el ev $V=\\mathbb{R}_2[x]$.\n",
    "\n",
    "Sea $B_V=\\{x^2-x,x+1,x^2+x\\}=\\{p_1,p_2,p_3\\}$. En el Laboratorio 1 vimos que $B$ es base de $\\mathbb{R}_2[x]$ (y en el 2 lo recordamos!).\n",
    "\n",
    "Considerando el pi dado por $\\langle p, q \\rangle = \\sum a_i b_i$ (donde $p(x)=\\sum a_i x^i$ y $q(x)=\\sum b_i x^i$) hallaremos una BON a partir de $B_V$.\n",
    "\n",
    "Para esto, seguiremos el proceso de Gram-Schmidt.\n"
   ]
  },
  {
   "cell_type": "code",
   "execution_count": 11,
   "id": "8dff9454",
   "metadata": {},
   "outputs": [
    {
     "data": {
      "text/plain": [
       "[[0, -1, 1], [1, 1, 0], [0, 1, 1]]"
      ]
     },
     "execution_count": 11,
     "metadata": {},
     "output_type": "execute_result"
    }
   ],
   "source": [
    "#Armamos la base como lista\n",
    "B = []\n",
    "\n",
    "p_1_cbc = [0,-1,1]\n",
    "p_1 = Matrix(1,3,p_1_cbc)\n",
    "B.append(p_1_cbc)\n",
    "\n",
    "p_2_cbc = [1,1,0]\n",
    "p_2 = Matrix(1,3,p_2_cbc)\n",
    "B.append(p_2_cbc)\n",
    "\n",
    "p_3_cbc = [0,1,1]\n",
    "p_3 = Matrix(1,3,p_3_cbc)\n",
    "B.append(p_3_cbc)\n",
    "B          "
   ]
  },
  {
   "cell_type": "code",
   "execution_count": 12,
   "id": "e7a4b97f",
   "metadata": {},
   "outputs": [
    {
     "data": {
      "text/latex": [
       "$\\displaystyle \\left[\\begin{matrix}0 & 1 & 0\\\\-1 & 1 & 1\\\\1 & 0 & 1\\end{matrix}\\right]$"
      ],
      "text/plain": [
       "Matrix([\n",
       "[ 0, 1, 0],\n",
       "[-1, 1, 1],\n",
       "[ 1, 0, 1]])"
      ]
     },
     "execution_count": 12,
     "metadata": {},
     "output_type": "execute_result"
    }
   ],
   "source": [
    "#Armamos la matriz cuyas columnas son los vectores de la base:\n",
    "A = zeros(3,3)\n",
    "for i in range(3):\n",
    "    vec = B[i]\n",
    "    for j in range(3):\n",
    "        coe = vec[j]\n",
    "        A[j,i] = coe\n",
    "A"
   ]
  },
  {
   "cell_type": "code",
   "execution_count": 13,
   "id": "dc989c41",
   "metadata": {},
   "outputs": [],
   "source": [
    "# Armamos el producto interno de dos polinomios\n",
    "def pr_in_base(p,q):\n",
    "    prod_int = sum(p[i]*q[i] for i in range(len(p)))\n",
    "    return prod_int"
   ]
  },
  {
   "cell_type": "code",
   "execution_count": 14,
   "id": "24cd85ae",
   "metadata": {},
   "outputs": [
    {
     "data": {
      "text/latex": [
       "$\\displaystyle \\left[\\begin{matrix}2 & -1 & 0\\\\-1 & 2 & 1\\\\0 & 1 & 2\\end{matrix}\\right]$"
      ],
      "text/plain": [
       "Matrix([\n",
       "[ 2, -1, 0],\n",
       "[-1,  2, 1],\n",
       "[ 0,  1, 2]])"
      ]
     },
     "execution_count": 14,
     "metadata": {},
     "output_type": "execute_result"
    }
   ],
   "source": [
    "# Armamos la matriz del producto interno\n",
    "g = zeros(3,3)\n",
    "for i in range(3):\n",
    "    for j in range(3):\n",
    "        p = pr_in_base(B[i],B[j])\n",
    "        g[i,j] = p\n",
    "g"
   ]
  },
  {
   "cell_type": "code",
   "execution_count": 15,
   "id": "6ed78e98",
   "metadata": {},
   "outputs": [],
   "source": [
    "import sympy as sp\n",
    "def norma(p):\n",
    "    norm = sp.sqrt(p.transpose() * g *p)\n",
    "    return norm"
   ]
  },
  {
   "cell_type": "code",
   "execution_count": 16,
   "id": "dca9cb84",
   "metadata": {},
   "outputs": [],
   "source": [
    "def pr_in(p,q):\n",
    "    producto = p.transpose() * g *q\n",
    "    return producto[0]"
   ]
  },
  {
   "cell_type": "code",
   "execution_count": 17,
   "id": "22463362",
   "metadata": {},
   "outputs": [],
   "source": [
    "e1 = Matrix(3,1,[1,0,0])\n",
    "e2 = Matrix(3,1,[0,1,0])\n",
    "e3 = Matrix(3,1,[0,0,1])"
   ]
  },
  {
   "cell_type": "code",
   "execution_count": 18,
   "id": "5dbbddf4",
   "metadata": {},
   "outputs": [
    {
     "data": {
      "text/latex": [
       "$\\displaystyle \\left[\\begin{matrix}0\\\\-1\\\\1\\end{matrix}\\right]$"
      ],
      "text/plain": [
       "Matrix([\n",
       "[ 0],\n",
       "[-1],\n",
       "[ 1]])"
      ]
     },
     "execution_count": 18,
     "metadata": {},
     "output_type": "execute_result"
    }
   ],
   "source": [
    "#columna 1 de A\n",
    "col1 = A*e1\n",
    "col1"
   ]
  },
  {
   "cell_type": "code",
   "execution_count": 19,
   "id": "4164518b",
   "metadata": {},
   "outputs": [
    {
     "data": {
      "text/latex": [
       "$\\displaystyle \\left[\\begin{matrix}2\\end{matrix}\\right]^{\\frac{1}{2}}$"
      ],
      "text/plain": [
       "Matrix([[2]])**(1/2)"
      ]
     },
     "execution_count": 19,
     "metadata": {},
     "output_type": "execute_result"
    }
   ],
   "source": [
    "norma(col1)"
   ]
  },
  {
   "cell_type": "code",
   "execution_count": 20,
   "id": "833b3d0c",
   "metadata": {},
   "outputs": [
    {
     "data": {
      "text/latex": [
       "$\\displaystyle \\left[\\begin{matrix}2\\end{matrix}\\right]^{\\frac{1}{2}}$"
      ],
      "text/plain": [
       "Matrix([[2]])**(1/2)"
      ]
     },
     "execution_count": 20,
     "metadata": {},
     "output_type": "execute_result"
    }
   ],
   "source": [
    "norma(A*e1)"
   ]
  },
  {
   "cell_type": "code",
   "execution_count": 21,
   "id": "38d04cc0",
   "metadata": {},
   "outputs": [
    {
     "data": {
      "text/latex": [
       "$\\displaystyle 0$"
      ],
      "text/plain": [
       "0"
      ]
     },
     "execution_count": 21,
     "metadata": {},
     "output_type": "execute_result"
    }
   ],
   "source": [
    "pr_in(A*e2,A*e1)/(sp.sqrt(pr_in(A*e1,A*e1)))"
   ]
  },
  {
   "cell_type": "code",
   "execution_count": 22,
   "id": "63848e1c",
   "metadata": {},
   "outputs": [],
   "source": [
    "# Vamos con el proceso de G-Sch para conseguir la BON \n",
    "BO = []"
   ]
  },
  {
   "cell_type": "code",
   "execution_count": 23,
   "id": "f624b054",
   "metadata": {},
   "outputs": [],
   "source": [
    "# PASO 1: Agrego a BO el primer elemento de la base de B:\n",
    "BO.append(A*e1)"
   ]
  },
  {
   "cell_type": "code",
   "execution_count": 24,
   "id": "b572b59a",
   "metadata": {},
   "outputs": [],
   "source": [
    "# PASO 2: Agrego a BO el elemento ortogonal al primero y en el span de los dos primeros de B\n",
    "vec = A*e2 - ( (pr_in(A*e2,A*e1))/(sp.sqrt(pr_in(A*e1,A*e1))))*(A*e1)\n",
    "BO.append(vec)"
   ]
  },
  {
   "cell_type": "code",
   "execution_count": 25,
   "id": "6b17a6db",
   "metadata": {},
   "outputs": [],
   "source": [
    "# PASO 3: Agrego a BO el tercer elemento\n",
    "vec = A*e3 - ( (pr_in(A*e3,A*e2))/(sp.sqrt(pr_in(A*e2,A*e2)))   )*(A*e2) - ( (pr_in(A*e3,A*e1))/(sp.sqrt(pr_in(A*e1,A*e1)))   )*(A*e1) \n",
    "BO.append(vec)"
   ]
  },
  {
   "cell_type": "code",
   "execution_count": 26,
   "id": "f7dd7bdf",
   "metadata": {},
   "outputs": [
    {
     "data": {
      "text/plain": [
       "([[0, -1, 1], [1, 1, 0], [0, 1, 1]],\n",
       " [Matrix([\n",
       "  [ 0],\n",
       "  [-1],\n",
       "  [ 1]]),\n",
       "  Matrix([\n",
       "  [1],\n",
       "  [1],\n",
       "  [0]]),\n",
       "  Matrix([\n",
       "  [   -sqrt(2)],\n",
       "  [1 - sqrt(2)],\n",
       "  [          1]])])"
      ]
     },
     "execution_count": 26,
     "metadata": {},
     "output_type": "execute_result"
    }
   ],
   "source": [
    "B,BO"
   ]
  },
  {
   "cell_type": "code",
   "execution_count": 27,
   "id": "279e7b72",
   "metadata": {},
   "outputs": [
    {
     "data": {
      "text/latex": [
       "$\\displaystyle \\left[\\begin{matrix}0 & 1 & - \\sqrt{2}\\\\-1 & 1 & 1 - \\sqrt{2}\\\\1 & 0 & 1\\end{matrix}\\right]$"
      ],
      "text/plain": [
       "Matrix([\n",
       "[ 0, 1,    -sqrt(2)],\n",
       "[-1, 1, 1 - sqrt(2)],\n",
       "[ 1, 0,           1]])"
      ]
     },
     "execution_count": 27,
     "metadata": {},
     "output_type": "execute_result"
    }
   ],
   "source": [
    "AO = zeros(3,3)\n",
    "for i in range(3):\n",
    "    vec = BO[i]\n",
    "    for j in range(3):\n",
    "        coe = vec[j]\n",
    "        AO[j,i] = coe\n",
    "AO"
   ]
  },
  {
   "cell_type": "code",
   "execution_count": 30,
   "id": "fae76c53",
   "metadata": {},
   "outputs": [],
   "source": [
    "# Ahora ortonormalizamos\n",
    "BON = []\n",
    "for i in range(len(BO)):\n",
    "    ortonormalizado = BO[i] / (sp.simplify(sp.sqrt(pr_in(BO[i],BO[i]))))\n",
    "    BON.append(ortonormalizado)"
   ]
  },
  {
   "cell_type": "code",
   "execution_count": 31,
   "id": "8debc04a",
   "metadata": {},
   "outputs": [
    {
     "data": {
      "text/plain": [
       "[Matrix([\n",
       " [         0],\n",
       " [-sqrt(2)/2],\n",
       " [ sqrt(2)/2]]),\n",
       " Matrix([\n",
       " [sqrt(2)/2],\n",
       " [sqrt(2)/2],\n",
       " [        0]]),\n",
       " Matrix([\n",
       " [     -sqrt(2)/sqrt(10 - 4*sqrt(2))],\n",
       " [(1 - sqrt(2))/sqrt(10 - 4*sqrt(2))],\n",
       " [            1/sqrt(10 - 4*sqrt(2))]])]"
      ]
     },
     "execution_count": 31,
     "metadata": {},
     "output_type": "execute_result"
    }
   ],
   "source": [
    "BON"
   ]
  },
  {
   "cell_type": "code",
   "execution_count": 32,
   "id": "8ca42633",
   "metadata": {},
   "outputs": [
    {
     "data": {
      "text/latex": [
       "$\\displaystyle \\left[\\begin{matrix}0 & \\frac{\\sqrt{2}}{2} & - \\frac{\\sqrt{2}}{\\sqrt{10 - 4 \\sqrt{2}}}\\\\- \\frac{\\sqrt{2}}{2} & \\frac{\\sqrt{2}}{2} & \\frac{1 - \\sqrt{2}}{\\sqrt{10 - 4 \\sqrt{2}}}\\\\\\frac{\\sqrt{2}}{2} & 0 & \\frac{1}{\\sqrt{10 - 4 \\sqrt{2}}}\\end{matrix}\\right]$"
      ],
      "text/plain": [
       "Matrix([\n",
       "[         0, sqrt(2)/2,      -sqrt(2)/sqrt(10 - 4*sqrt(2))],\n",
       "[-sqrt(2)/2, sqrt(2)/2, (1 - sqrt(2))/sqrt(10 - 4*sqrt(2))],\n",
       "[ sqrt(2)/2,         0,             1/sqrt(10 - 4*sqrt(2))]])"
      ]
     },
     "execution_count": 32,
     "metadata": {},
     "output_type": "execute_result"
    }
   ],
   "source": [
    "AON = zeros(3,3)\n",
    "for i in range(3):\n",
    "    vec = BON[i]\n",
    "    for j in range(3):\n",
    "        coe = vec[j]\n",
    "        AON[j,i] = coe\n",
    "AON"
   ]
  },
  {
   "cell_type": "markdown",
   "id": "ef4e0566",
   "metadata": {},
   "source": [
    "Falta ahora pasar de coordenadas a elementos del espacio.\n",
    "La base ortonormal es entonces\n",
    "\n",
    "$$B = \\left\\{ -\\frac{\\sqrt{2}}{2}x+\\frac{\\sqrt{2}}{2} x^2, \\frac{\\sqrt{2}}{2}+ \\frac{\\sqrt{2}}{2}x,   -\\frac{\\sqrt{2}}{\\sqrt{10-4\\sqrt{2}}}+ \\frac{1-\\sqrt{2}}{\\sqrt{10-4\\sqrt{2}}}x +\\frac{1}{\\sqrt{10-4\\sqrt{2}}} x^2 \\right\\}.$$"
   ]
  },
  {
   "cell_type": "markdown",
   "id": "a4ed7475",
   "metadata": {},
   "source": [
    "## EJERCICIO\n",
    "\n",
    "Programar un algoritmo de Gram-Schmidt más general."
   ]
  },
  {
   "cell_type": "markdown",
   "id": "05455012",
   "metadata": {},
   "source": [
    "---\n",
    "Estas notebooks fueron confeccionadas pa ra la asignatura Álgebra Lineal correspondiente al primer cuatrimestre de segundo año de la Licenciatura en Cs. de la Computación y al redictado para la Licenciatura en Matemática y el Profesorado en Matemática de la Escuela de Cs. Exactas y Naturales de la Facultad de Cs. Exactas, Ingeniería y Agrimensura. La docente responsable es Isolda E. Cardoso (isolda@fceia.unr.edu.ar)\n",
    "\n",
    "En caso de reproducirlas, se solicita citar la fuente."
   ]
  }
 ],
 "metadata": {
  "colab": {
   "provenance": []
  },
  "kernelspec": {
   "display_name": "Python 3 (ipykernel)",
   "language": "python",
   "name": "python3"
  },
  "language_info": {
   "codemirror_mode": {
    "name": "ipython",
    "version": 3
   },
   "file_extension": ".py",
   "mimetype": "text/x-python",
   "name": "python",
   "nbconvert_exporter": "python",
   "pygments_lexer": "ipython3",
   "version": "3.9.6"
  }
 },
 "nbformat": 4,
 "nbformat_minor": 5
}
