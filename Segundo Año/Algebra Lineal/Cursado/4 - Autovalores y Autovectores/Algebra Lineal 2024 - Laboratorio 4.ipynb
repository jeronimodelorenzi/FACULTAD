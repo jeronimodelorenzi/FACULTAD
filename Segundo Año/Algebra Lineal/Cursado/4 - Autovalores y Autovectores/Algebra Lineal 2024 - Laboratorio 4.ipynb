{
 "cells": [
  {
   "cell_type": "markdown",
   "id": "b3268cf3",
   "metadata": {
    "id": "b3268cf3"
   },
   "source": [
    "# Álgebra Lineal 2024 1er. cuatrimestre - Laboratorio 4"
   ]
  },
  {
   "cell_type": "markdown",
   "id": "737eed23",
   "metadata": {
    "id": "737eed23"
   },
   "source": [
    "Esta notebook elaborada por la cátedra es para trabajar diagonalización."
   ]
  },
  {
   "cell_type": "code",
   "execution_count": 1,
   "id": "93402f35",
   "metadata": {
    "id": "93402f35"
   },
   "outputs": [],
   "source": [
    "# Cargamos NumPy.\n",
    "import numpy as np\n",
    "# Cargamos Sympy\n",
    "#from sympy import Matrix\n",
    "#from sympy.matrices import zeros\n",
    "#from sympy import shape\n",
    "from sympy import *"
   ]
  },
  {
   "cell_type": "markdown",
   "id": "c82c0571",
   "metadata": {},
   "source": [
    "## 0. Matrices por bloques\n",
    "\n",
    "Vamos a mostrar cómo ingresar matrices por bloques en Sympy.\n",
    "\n"
   ]
  },
  {
   "cell_type": "markdown",
   "id": "000ec966",
   "metadata": {},
   "source": [
    "Supongamos que queremos armar la matriz siguiente:\n",
    "\n",
    "$$ A = \\begin{pmatrix} \n",
    "-1 & 0 & 0 & 0 & 0 & 0  \\\\\n",
    "0 & 1 & 1 & 0 & 0 & 0  \\\\\n",
    "0 & 1 & 1 & 0 & 0 & 0  \\\\\n",
    "0 & 0 & 0 & 2 & 1 & -2  \\\\\n",
    "0 & 0 & 0 & 1 & 3 & -1  \\\\\n",
    "0 & 0 & 0 & 4 & 5 & 0  \n",
    "\\end{pmatrix} $$\n",
    "\n",
    "Esta matriz tiene 3 bloques diagonales: uno $1\\times 1$ , uno $2\\times 2$ y uno $3\\times3$."
   ]
  },
  {
   "cell_type": "code",
   "execution_count": 2,
   "id": "4dab5a17",
   "metadata": {},
   "outputs": [
    {
     "data": {
      "text/latex": [
       "$\\displaystyle \\left[\\begin{matrix}-1 & 0 & 0 & 0 & 0 & 0\\\\0 & 1 & 1 & 0 & 0 & 0\\\\0 & 1 & 1 & 0 & 0 & 0\\\\0 & 0 & 0 & 5 & 7 & 5\\\\0 & 0 & 0 & 2 & 2 & 4\\\\0 & 0 & 0 & 2 & 3 & 1\\end{matrix}\\right]$"
      ],
      "text/plain": [
       "Matrix([\n",
       "[-1, 0, 0, 0, 0, 0],\n",
       "[ 0, 1, 1, 0, 0, 0],\n",
       "[ 0, 1, 1, 0, 0, 0],\n",
       "[ 0, 0, 0, 5, 7, 5],\n",
       "[ 0, 0, 0, 2, 2, 4],\n",
       "[ 0, 0, 0, 2, 3, 1]])"
      ]
     },
     "execution_count": 2,
     "metadata": {},
     "output_type": "execute_result"
    }
   ],
   "source": [
    "A = diag(-1, ones(2, 2), Matrix([[5, 7, 5],[2,2,4],[2,3,1]]))\n",
    "A"
   ]
  },
  {
   "cell_type": "markdown",
   "id": "347fd34f",
   "metadata": {},
   "source": [
    "Armemos ahora la matriz $$\\begin{pmatrix} 1 & 0 & 1 & 1 \\\\ 0 & 1 & 1 & 1 \\\\ 0 & 2 & 4 & 5 \\end{pmatrix}.$$\n",
    "\n",
    "Esta matriz tiene un bloque identidad $2\\times 2$ seguido de un bloque de unos $2\\times 2$ y abajo una fila $1\\times 4$."
   ]
  },
  {
   "cell_type": "code",
   "execution_count": 3,
   "id": "ef5b7317",
   "metadata": {},
   "outputs": [
    {
     "data": {
      "text/latex": [
       "$\\displaystyle \\left[\\begin{matrix}1 & 0 & 1 & 1\\\\0 & 1 & 1 & 1\\\\0 & 2 & 4 & 5\\end{matrix}\\right]$"
      ],
      "text/plain": [
       "Matrix([\n",
       "[1, 0, 1, 1],\n",
       "[0, 1, 1, 1],\n",
       "[0, 2, 4, 5]])"
      ]
     },
     "execution_count": 3,
     "metadata": {},
     "output_type": "execute_result"
    }
   ],
   "source": [
    "B = Matrix([[eye(2),ones(2)],[0, 2, 4, 5]])\n",
    "B"
   ]
  },
  {
   "cell_type": "markdown",
   "id": "21ed68e8",
   "metadata": {},
   "source": [
    "En general se pueden construir matrices de estas formas, basta con probar."
   ]
  },
  {
   "cell_type": "markdown",
   "id": "89d69b42",
   "metadata": {},
   "source": [
    "## 1. Autovalores y autovectores\n",
    "\n",
    "\n",
    "Dada una matriz $A\\in F^{n\\times n}$ podemos calcular sus autovalores y autovectores asociados, chequear si es diagonalizable y de serlo, encontrar la base donde es diagonal así como la descomposición de $F^n$ en autoespacios."
   ]
  },
  {
   "cell_type": "code",
   "execution_count": 4,
   "id": "b947c642",
   "metadata": {},
   "outputs": [
    {
     "data": {
      "text/latex": [
       "$\\displaystyle \\left[\\begin{matrix}3 & -2 & 4 & -2\\\\5 & 3 & -3 & -2\\\\5 & -2 & 2 & -2\\\\5 & -2 & -3 & 3\\end{matrix}\\right]$"
      ],
      "text/plain": [
       "Matrix([\n",
       "[3, -2,  4, -2],\n",
       "[5,  3, -3, -2],\n",
       "[5, -2,  2, -2],\n",
       "[5, -2, -3,  3]])"
      ]
     },
     "execution_count": 4,
     "metadata": {},
     "output_type": "execute_result"
    }
   ],
   "source": [
    "M = Matrix([[3, -2,  4, -2], [5,  3, -3, -2], [5, -2,  2, -2], [5, -2, -3,  3]])\n",
    "M"
   ]
  },
  {
   "cell_type": "code",
   "execution_count": 5,
   "id": "403e6cc5",
   "metadata": {},
   "outputs": [
    {
     "data": {
      "text/plain": [
       "{3: 1, -2: 1, 5: 2}"
      ]
     },
     "execution_count": 5,
     "metadata": {},
     "output_type": "execute_result"
    }
   ],
   "source": [
    "M.eigenvals()"
   ]
  },
  {
   "cell_type": "markdown",
   "id": "ee057d6d",
   "metadata": {},
   "source": [
    "Este diccionario lo interpretamos así:\n",
    "3 es un autovalor de M de multiplicidad 1\n",
    "-2 es un autovalor de M de multiplicidad 1\n",
    "5 es un autovalor de M de multiplicidad 2\n",
    "\n",
    "Aquí multiplicidad significa multiplicidad como raíz del polinomio característico. Podemos también calcularlo:"
   ]
  },
  {
   "cell_type": "code",
   "execution_count": 6,
   "id": "9a311c8f",
   "metadata": {},
   "outputs": [
    {
     "data": {
      "text/latex": [
       "$\\displaystyle \\operatorname{PurePoly}{\\left( \\lambda^{4} - 11 \\lambda^{3} + 29 \\lambda^{2} + 35 \\lambda - 150, \\lambda, domain=\\mathbb{Z} \\right)}$"
      ],
      "text/plain": [
       "PurePoly(lambda**4 - 11*lambda**3 + 29*lambda**2 + 35*lambda - 150, lambda, domain='ZZ')"
      ]
     },
     "execution_count": 6,
     "metadata": {},
     "output_type": "execute_result"
    }
   ],
   "source": [
    "M.charpoly()"
   ]
  },
  {
   "cell_type": "markdown",
   "id": "cf91878b",
   "metadata": {},
   "source": [
    "Para factorizarlo basta pedirle las raíces:"
   ]
  },
  {
   "cell_type": "code",
   "execution_count": 7,
   "id": "5acde989",
   "metadata": {},
   "outputs": [
    {
     "data": {
      "text/plain": [
       "[-2, 3, 5, 5]"
      ]
     },
     "execution_count": 7,
     "metadata": {},
     "output_type": "execute_result"
    }
   ],
   "source": [
    "M.charpoly().all_roots()"
   ]
  },
  {
   "cell_type": "markdown",
   "id": "fc13d31b",
   "metadata": {},
   "source": [
    "Calculemos ahora los autovectores. Sympy te da una base del autoespacio asociado:"
   ]
  },
  {
   "cell_type": "code",
   "execution_count": 8,
   "id": "8146388d",
   "metadata": {},
   "outputs": [
    {
     "data": {
      "text/plain": [
       "[(-2,\n",
       "  1,\n",
       "  [Matrix([\n",
       "   [0],\n",
       "   [1],\n",
       "   [1],\n",
       "   [1]])]),\n",
       " (3,\n",
       "  1,\n",
       "  [Matrix([\n",
       "   [1],\n",
       "   [1],\n",
       "   [1],\n",
       "   [1]])]),\n",
       " (5,\n",
       "  2,\n",
       "  [Matrix([\n",
       "   [1],\n",
       "   [1],\n",
       "   [1],\n",
       "   [0]]),\n",
       "   Matrix([\n",
       "   [ 0],\n",
       "   [-1],\n",
       "   [ 0],\n",
       "   [ 1]])])]"
      ]
     },
     "execution_count": 8,
     "metadata": {},
     "output_type": "execute_result"
    }
   ],
   "source": [
    "M.eigenvects()"
   ]
  },
  {
   "cell_type": "markdown",
   "id": "0a8c75c2",
   "metadata": {},
   "source": [
    "Cada salida es una terna donde figuran autovalor, su multiplicidad y una base del autoespacio.\n",
    "\n",
    "Vemos que el autoespacio asociado al autovalor -2 tiene dimensión 1 y está generado por (0,1,1,1)."
   ]
  },
  {
   "cell_type": "code",
   "execution_count": 9,
   "id": "c7c0407f",
   "metadata": {},
   "outputs": [],
   "source": [
    "v1 = Matrix([[0],[1],[1],[1]])"
   ]
  },
  {
   "cell_type": "code",
   "execution_count": 10,
   "id": "b916ec02",
   "metadata": {
    "scrolled": true
   },
   "outputs": [
    {
     "data": {
      "text/latex": [
       "$\\displaystyle \\left[\\begin{matrix}0\\\\-2\\\\-2\\\\-2\\end{matrix}\\right]$"
      ],
      "text/plain": [
       "Matrix([\n",
       "[ 0],\n",
       "[-2],\n",
       "[-2],\n",
       "[-2]])"
      ]
     },
     "execution_count": 10,
     "metadata": {},
     "output_type": "execute_result"
    }
   ],
   "source": [
    "M*v1"
   ]
  },
  {
   "cell_type": "code",
   "execution_count": 11,
   "id": "73f40a0f",
   "metadata": {},
   "outputs": [
    {
     "data": {
      "text/plain": [
       "True"
      ]
     },
     "execution_count": 11,
     "metadata": {},
     "output_type": "execute_result"
    }
   ],
   "source": [
    "M*v1 == -2*v1"
   ]
  },
  {
   "cell_type": "markdown",
   "id": "375b9304",
   "metadata": {},
   "source": [
    "El autoespacio $E_{-2}$ es el espacio nulo de $M-(-2)I$:"
   ]
  },
  {
   "cell_type": "code",
   "execution_count": 12,
   "id": "7d82612e",
   "metadata": {},
   "outputs": [
    {
     "data": {
      "text/latex": [
       "$\\displaystyle \\left[\\begin{matrix}5 & -2 & 4 & -2\\\\5 & 5 & -3 & -2\\\\5 & -2 & 4 & -2\\\\5 & -2 & -3 & 5\\end{matrix}\\right]$"
      ],
      "text/plain": [
       "Matrix([\n",
       "[5, -2,  4, -2],\n",
       "[5,  5, -3, -2],\n",
       "[5, -2,  4, -2],\n",
       "[5, -2, -3,  5]])"
      ]
     },
     "execution_count": 12,
     "metadata": {},
     "output_type": "execute_result"
    }
   ],
   "source": [
    "M_autov1 = M + 2*eye(4)\n",
    "M_autov1"
   ]
  },
  {
   "cell_type": "code",
   "execution_count": 13,
   "id": "ba73ffc7",
   "metadata": {},
   "outputs": [
    {
     "data": {
      "text/plain": [
       "[Matrix([\n",
       " [0],\n",
       " [1],\n",
       " [1],\n",
       " [1]])]"
      ]
     },
     "execution_count": 13,
     "metadata": {},
     "output_type": "execute_result"
    }
   ],
   "source": [
    "M_autov1.nullspace()"
   ]
  },
  {
   "cell_type": "markdown",
   "id": "524cb95e",
   "metadata": {},
   "source": [
    "Es decir, el autoespacio correspondiente al primer autovalor está, efectivamente, generado por v1."
   ]
  },
  {
   "cell_type": "markdown",
   "id": "a721ef1d",
   "metadata": {},
   "source": [
    "De la misma forma, vemos que el autoespacio asociado al autovalor 5 tiene dimensión 2 y está generado por (1,1,1,0) y (0,-1,0,1)."
   ]
  },
  {
   "cell_type": "code",
   "execution_count": 14,
   "id": "7b9c2e4f",
   "metadata": {},
   "outputs": [],
   "source": [
    "v3 = Matrix([[1],[1],[1],[0]])\n",
    "v4 = Matrix([[0],[-1],[0],[ 1]])"
   ]
  },
  {
   "cell_type": "code",
   "execution_count": 15,
   "id": "5c5269d9",
   "metadata": {},
   "outputs": [
    {
     "data": {
      "text/plain": [
       "(True, True, False)"
      ]
     },
     "execution_count": 15,
     "metadata": {},
     "output_type": "execute_result"
    }
   ],
   "source": [
    "M*v3 == 5*v3, M*v4 == 5*v4, M*v1 == 5*v1"
   ]
  },
  {
   "cell_type": "code",
   "execution_count": 16,
   "id": "1f093e1e",
   "metadata": {},
   "outputs": [
    {
     "data": {
      "text/latex": [
       "$\\displaystyle \\left[\\begin{matrix}-2 & -2 & 4 & -2\\\\5 & -2 & -3 & -2\\\\5 & -2 & -3 & -2\\\\5 & -2 & -3 & -2\\end{matrix}\\right]$"
      ],
      "text/plain": [
       "Matrix([\n",
       "[-2, -2,  4, -2],\n",
       "[ 5, -2, -3, -2],\n",
       "[ 5, -2, -3, -2],\n",
       "[ 5, -2, -3, -2]])"
      ]
     },
     "execution_count": 16,
     "metadata": {},
     "output_type": "execute_result"
    }
   ],
   "source": [
    "M_autov3 = M - 5*eye(4)\n",
    "M_autov3"
   ]
  },
  {
   "cell_type": "code",
   "execution_count": 17,
   "id": "35904803",
   "metadata": {},
   "outputs": [
    {
     "data": {
      "text/plain": [
       "[Matrix([\n",
       " [1],\n",
       " [1],\n",
       " [1],\n",
       " [0]]),\n",
       " Matrix([\n",
       " [ 0],\n",
       " [-1],\n",
       " [ 0],\n",
       " [ 1]])]"
      ]
     },
     "execution_count": 17,
     "metadata": {},
     "output_type": "execute_result"
    }
   ],
   "source": [
    "M_autov3.nullspace()"
   ]
  },
  {
   "cell_type": "markdown",
   "id": "258f58a0",
   "metadata": {},
   "source": [
    "Vemos que $M$ diagonaliza. Su forma diagonal sería entonces $D = diag(-2,3,5,5)$ y una matriz de cambio de base está dada por $P=([v_1],[v_2],[v_3],[v_4])$ (qué sería $v_2$?)."
   ]
  },
  {
   "cell_type": "code",
   "execution_count": 18,
   "id": "3662b7a4",
   "metadata": {},
   "outputs": [],
   "source": [
    "P,D = M.diagonalize()"
   ]
  },
  {
   "cell_type": "code",
   "execution_count": 19,
   "id": "a2e1d38e",
   "metadata": {},
   "outputs": [
    {
     "data": {
      "text/latex": [
       "$\\displaystyle \\left[\\begin{matrix}-2 & 0 & 0 & 0\\\\0 & 3 & 0 & 0\\\\0 & 0 & 5 & 0\\\\0 & 0 & 0 & 5\\end{matrix}\\right]$"
      ],
      "text/plain": [
       "Matrix([\n",
       "[-2, 0, 0, 0],\n",
       "[ 0, 3, 0, 0],\n",
       "[ 0, 0, 5, 0],\n",
       "[ 0, 0, 0, 5]])"
      ]
     },
     "execution_count": 19,
     "metadata": {},
     "output_type": "execute_result"
    }
   ],
   "source": [
    "D"
   ]
  },
  {
   "cell_type": "code",
   "execution_count": 20,
   "id": "5032b202",
   "metadata": {},
   "outputs": [
    {
     "data": {
      "text/latex": [
       "$\\displaystyle \\left[\\begin{matrix}0 & 1 & 1 & 0\\\\1 & 1 & 1 & -1\\\\1 & 1 & 1 & 0\\\\1 & 1 & 0 & 1\\end{matrix}\\right]$"
      ],
      "text/plain": [
       "Matrix([\n",
       "[0, 1, 1,  0],\n",
       "[1, 1, 1, -1],\n",
       "[1, 1, 1,  0],\n",
       "[1, 1, 0,  1]])"
      ]
     },
     "execution_count": 20,
     "metadata": {},
     "output_type": "execute_result"
    }
   ],
   "source": [
    "P"
   ]
  },
  {
   "cell_type": "code",
   "execution_count": 22,
   "id": "8d921e11",
   "metadata": {},
   "outputs": [
    {
     "data": {
      "text/plain": [
       "True"
      ]
     },
     "execution_count": 22,
     "metadata": {},
     "output_type": "execute_result"
    }
   ],
   "source": [
    "M.is_diagonalizable()"
   ]
  },
  {
   "cell_type": "markdown",
   "id": "c3c825f6",
   "metadata": {},
   "source": [
    "EJERCICIO: Corroborar los resultados del práctico."
   ]
  },
  {
   "cell_type": "markdown",
   "id": "818d0c3b",
   "metadata": {},
   "source": [
    "## 2 Polinomio minimal\n"
   ]
  },
  {
   "cell_type": "code",
   "execution_count": 23,
   "id": "5d798f14",
   "metadata": {},
   "outputs": [],
   "source": [
    "I = eye(4)"
   ]
  },
  {
   "cell_type": "code",
   "execution_count": 32,
   "id": "bd22accb",
   "metadata": {},
   "outputs": [],
   "source": [
    "e1 = Matrix([[1],[0],[0],[0]])"
   ]
  },
  {
   "cell_type": "code",
   "execution_count": 34,
   "id": "d6d28dd0",
   "metadata": {},
   "outputs": [
    {
     "data": {
      "text/plain": [
       "(Matrix([\n",
       " [1],\n",
       " [0],\n",
       " [0],\n",
       " [0]]),\n",
       " Matrix([\n",
       " [3],\n",
       " [5],\n",
       " [5],\n",
       " [5]]),\n",
       " Matrix([\n",
       " [9],\n",
       " [5],\n",
       " [5],\n",
       " [5]]))"
      ]
     },
     "execution_count": 34,
     "metadata": {},
     "output_type": "execute_result"
    }
   ],
   "source": [
    "e1,M*e1,M**2*e1"
   ]
  },
  {
   "cell_type": "code",
   "execution_count": 54,
   "id": "c8e7015b",
   "metadata": {},
   "outputs": [],
   "source": [
    "A1 = Matrix([[e1.transpose()],[(M*e1).transpose()],[(M**2*e1).transpose()]]).transpose()"
   ]
  },
  {
   "cell_type": "code",
   "execution_count": 58,
   "id": "c1f2dc36",
   "metadata": {},
   "outputs": [
    {
     "data": {
      "text/plain": [
       "(Matrix([\n",
       " [1, 0, 6],\n",
       " [0, 1, 1],\n",
       " [0, 0, 0],\n",
       " [0, 0, 0]]),\n",
       " (0, 1))"
      ]
     },
     "execution_count": 58,
     "metadata": {},
     "output_type": "execute_result"
    }
   ],
   "source": [
    "A1_fer, A1_pivots = A1.rref()\n",
    "A1_fer, A1_pivots"
   ]
  },
  {
   "cell_type": "markdown",
   "id": "699afcd3",
   "metadata": {},
   "source": [
    "Es decir, el conjunto $\\{e_1,Me_1,M^2e_1\\}$, y $\\{e_1,Me_1\\}$ es li. Entonces podemos calcular el polinomio minimal $m_{e_1}$ resolviendo el sistema $a_0 e_1 + a_1 Me_1 + M^2e_1 = 0$."
   ]
  },
  {
   "cell_type": "markdown",
   "id": "76d90672",
   "metadata": {},
   "source": [
    "De esta solución vemos que el sistema homogéneo $A1(a,b,c)^t=\\overline{0}^t$ es equivalente a $a + 6c =0,b+c=0$. Poniendo $c=1$ para que sea mónico el polinomio, sigue que $m_{e_1} = -6 -x -x^2$."
   ]
  },
  {
   "cell_type": "code",
   "execution_count": 77,
   "id": "3955acaf",
   "metadata": {},
   "outputs": [],
   "source": [
    "x= symbols('x')\n",
    "#init_printing(use_unicode=False, wrap_line=False)"
   ]
  },
  {
   "cell_type": "code",
   "execution_count": 85,
   "id": "576f1710",
   "metadata": {},
   "outputs": [],
   "source": [
    "m1 = -6 - x+ x**2"
   ]
  },
  {
   "cell_type": "code",
   "execution_count": 86,
   "id": "db95df9d",
   "metadata": {},
   "outputs": [],
   "source": [
    "m1 = m1.as_poly()"
   ]
  },
  {
   "cell_type": "code",
   "execution_count": 87,
   "id": "92b80c3a",
   "metadata": {},
   "outputs": [
    {
     "data": {
      "image/png": "[encoded data removed]",
      "text/latex": [
       "$\\displaystyle \\left[ -2, \\  3\\right]$"
      ],
      "text/plain": [
       "[-2, 3]"
      ]
     },
     "execution_count": 87,
     "metadata": {},
     "output_type": "execute_result"
    }
   ],
   "source": [
    "m1.all_roots()"
   ]
  },
  {
   "cell_type": "markdown",
   "id": "7885457a",
   "metadata": {},
   "source": [
    "Así, $m_{e_1}(x)=(x+2)(x-3)$.\n",
    "\n",
    "Análogamente,\n",
    "\n",
    "$m_{e_2}(x)=(x-3)(x-5)$\n",
    "\n",
    "$m_{e_3}(x)=(x+2)(x-3)(x-5)$\n",
    "\n",
    "$m_{e_4}(x)=(x-3)(x-5)$\n",
    "\n",
    "De donde $m_M(x)=mcm\\{m_{e_1},m_{e_2},m_{e_3},m_{e_4}\\} = (x+2)(x-3)(x-5)$.\n",
    "\n",
    "Observemos que $m_M|chi_M$.\n",
    "\n",
    "Además, todas las raíces de $m_M$ son simples.\n"
   ]
  },
  {
   "cell_type": "code",
   "execution_count": 88,
   "id": "344fe3d6",
   "metadata": {},
   "outputs": [],
   "source": [
    "e2 = Matrix([[0],[1],[0],[0]])"
   ]
  },
  {
   "cell_type": "code",
   "execution_count": 92,
   "id": "1f1265f3",
   "metadata": {},
   "outputs": [
    {
     "data": {
      "text/latex": [
       "$\\displaystyle \\left( \\left[\\begin{matrix}1 & 0 & -15\\\\0 & 1 & 8\\\\0 & 0 & 0\\\\0 & 0 & 0\\end{matrix}\\right], \\  \\left( 0, \\  1\\right)\\right)$"
      ],
      "text/plain": [
       " [1  0  -15]         \n",
       " [         ]         \n",
       " [0  1   8 ]         \n",
       "([         ], (0, 1))\n",
       " [0  0   0 ]         \n",
       " [         ]         \n",
       " [0  0   0 ]         "
      ]
     },
     "execution_count": 92,
     "metadata": {},
     "output_type": "execute_result"
    }
   ],
   "source": [
    "A2 = Matrix([[e2.transpose()],[(M*e2).transpose()],[(M**2*e2).transpose()]]).transpose()\n",
    "A2_fer, A2_pivots = A2.rref()\n",
    "A2_fer, A2_pivots"
   ]
  },
  {
   "cell_type": "markdown",
   "id": "efb3bb17",
   "metadata": {},
   "source": [
    "a - 15c = 0 y b+8c =0"
   ]
  },
  {
   "cell_type": "code",
   "execution_count": 101,
   "id": "a29da76c",
   "metadata": {},
   "outputs": [
    {
     "data": {
      "image/png": "[encoded data removed]",
      "text/latex": [
       "$\\displaystyle \\left[ 3, \\  5\\right]$"
      ],
      "text/plain": [
       "[3, 5]"
      ]
     },
     "execution_count": 101,
     "metadata": {},
     "output_type": "execute_result"
    }
   ],
   "source": [
    "m2 = 15 - 8*x+ x**2\n",
    "m2 = m2.as_poly()\n",
    "m2.all_roots()"
   ]
  },
  {
   "cell_type": "code",
   "execution_count": 102,
   "id": "0f6908fc",
   "metadata": {},
   "outputs": [],
   "source": [
    "e3 = Matrix([[0],[0],[1],[0]])"
   ]
  },
  {
   "cell_type": "code",
   "execution_count": 97,
   "id": "ae1ed241",
   "metadata": {},
   "outputs": [
    {
     "data": {
      "text/latex": [
       "$\\displaystyle \\left( \\left[\\begin{matrix}1 & 0 & 0\\\\0 & 1 & 0\\\\0 & 0 & 1\\\\0 & 0 & 0\\end{matrix}\\right], \\  \\left( 0, \\  1, \\  2\\right)\\right)$"
      ],
      "text/plain": [
       " [1  0  0]            \n",
       " [       ]            \n",
       " [0  1  0]            \n",
       "([       ], (0, 1, 2))\n",
       " [0  0  1]            \n",
       " [       ]            \n",
       " [0  0  0]            "
      ]
     },
     "execution_count": 97,
     "metadata": {},
     "output_type": "execute_result"
    }
   ],
   "source": [
    "A3 = Matrix([[e3.transpose()],[(M*e3).transpose()],[(M**2*e3).transpose()]]).transpose()\n",
    "A3_fer, A3_pivots = A3.rref()\n",
    "A3_fer, A3_pivots"
   ]
  },
  {
   "cell_type": "code",
   "execution_count": 100,
   "id": "311cb921",
   "metadata": {},
   "outputs": [
    {
     "data": {
      "text/latex": [
       "$\\displaystyle \\left( \\left[\\begin{matrix}1 & 0 & 0 & -30\\\\0 & 1 & 0 & 1\\\\0 & 0 & 1 & 6\\\\0 & 0 & 0 & 0\\end{matrix}\\right], \\  \\left( 0, \\  1, \\  2\\right)\\right)$"
      ],
      "text/plain": [
       " [1  0  0  -30]            \n",
       " [            ]            \n",
       " [0  1  0   1 ]            \n",
       "([            ], (0, 1, 2))\n",
       " [0  0  1   6 ]            \n",
       " [            ]            \n",
       " [0  0  0   0 ]            "
      ]
     },
     "execution_count": 100,
     "metadata": {},
     "output_type": "execute_result"
    }
   ],
   "source": [
    "A3 = Matrix([[e3.transpose()],[(M*e3).transpose()],[(M**2*e3).transpose()],[(M**3*e3).transpose()]]).transpose()\n",
    "A3_fer, A3_pivots = A3.rref()\n",
    "A3_fer, A3_pivots"
   ]
  },
  {
   "cell_type": "markdown",
   "id": "a26b8364",
   "metadata": {},
   "source": [
    "a -30 d =0, b+d = 0, c+6d=0"
   ]
  },
  {
   "cell_type": "code",
   "execution_count": 103,
   "id": "77e190d1",
   "metadata": {},
   "outputs": [
    {
     "data": {
      "image/png": "[encoded data removed]",
      "text/latex": [
       "$\\displaystyle \\left[ -2, \\  3, \\  5\\right]$"
      ],
      "text/plain": [
       "[-2, 3, 5]"
      ]
     },
     "execution_count": 103,
     "metadata": {},
     "output_type": "execute_result"
    }
   ],
   "source": [
    "m3 = 30 - x - 6* x**2 + x**3\n",
    "m3 = m3.as_poly()\n",
    "m3.all_roots()"
   ]
  },
  {
   "cell_type": "code",
   "execution_count": 104,
   "id": "0a4be0ce",
   "metadata": {},
   "outputs": [],
   "source": [
    "e4 = Matrix([[0],[0],[0],[1]])"
   ]
  },
  {
   "cell_type": "code",
   "execution_count": 105,
   "id": "f32f4440",
   "metadata": {},
   "outputs": [
    {
     "data": {
      "text/latex": [
       "$\\displaystyle \\left( \\left[\\begin{matrix}1 & 0 & -15\\\\0 & 1 & 8\\\\0 & 0 & 0\\\\0 & 0 & 0\\end{matrix}\\right], \\  \\left( 0, \\  1\\right)\\right)$"
      ],
      "text/plain": [
       " [1  0  -15]         \n",
       " [         ]         \n",
       " [0  1   8 ]         \n",
       "([         ], (0, 1))\n",
       " [0  0   0 ]         \n",
       " [         ]         \n",
       " [0  0   0 ]         "
      ]
     },
     "execution_count": 105,
     "metadata": {},
     "output_type": "execute_result"
    }
   ],
   "source": [
    "A4 = Matrix([[e4.transpose()],[(M*e4).transpose()],[(M**2*e4).transpose()]]).transpose()\n",
    "A4_fer, A4_pivots = A4.rref()\n",
    "A4_fer, A4_pivots"
   ]
  },
  {
   "cell_type": "markdown",
   "id": "5bf6ccb6",
   "metadata": {},
   "source": [
    "a-15c =0 , b+8c=0"
   ]
  },
  {
   "cell_type": "code",
   "execution_count": 106,
   "id": "b7a3cce4",
   "metadata": {},
   "outputs": [
    {
     "data": {
      "image/png": "[encoded data removed]",
      "text/latex": [
       "$\\displaystyle \\left[ 3, \\  5\\right]$"
      ],
      "text/plain": [
       "[3, 5]"
      ]
     },
     "execution_count": 106,
     "metadata": {},
     "output_type": "execute_result"
    }
   ],
   "source": [
    "m4 = 15 - 8*x + x**2\n",
    "m4 = m4.as_poly()\n",
    "m4.all_roots()"
   ]
  },
  {
   "cell_type": "markdown",
   "id": "19223aca",
   "metadata": {},
   "source": [
    "EJERCICIO: Corroborar los resultados del práctico."
   ]
  },
  {
   "cell_type": "markdown",
   "id": "eb912b33",
   "metadata": {
    "id": "eb912b33"
   },
   "source": [
    "---\n",
    "Estas notebooks fueron confeccionadas pa ra la asignatura Álgebra Lineal correspondiente al primer cuatrimestre de segundo año de la Licenciatura en Cs. de la Computación y al redictado para la Licenciatura en Matemática y el Profesorado en Matemática de la Escuela de Cs. Exactas y Naturales de la Facultad de Cs. Exactas, Ingeniería y Agrimensura. La docente responsable es Isolda E. Cardoso (isolda@fceia.unr.edu.ar)\n",
    "\n",
    "En caso de reproducirlas, se solicita citar la fuente."
   ]
  }
 ],
 "metadata": {
  "colab": {
   "provenance": []
  },
  "kernelspec": {
   "display_name": "Python 3 (ipykernel)",
   "language": "python",
   "name": "python3"
  },
  "language_info": {
   "codemirror_mode": {
    "name": "ipython",
    "version": 3
   },
   "file_extension": ".py",
   "mimetype": "text/x-python",
   "name": "python",
   "nbconvert_exporter": "python",
   "pygments_lexer": "ipython3",
   "version": "3.9.6"
  }
 },
 "nbformat": 4,
 "nbformat_minor": 5
}
