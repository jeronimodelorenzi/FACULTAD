{
 "cells": [
  {
   "cell_type": "markdown",
   "id": "b3268cf3",
   "metadata": {
    "id": "b3268cf3"
   },
   "source": [
    "# Álgebra Lineal 2024 1er. cuatrimestre - Laboratorio 6"
   ]
  },
  {
   "cell_type": "markdown",
   "id": "737eed23",
   "metadata": {
    "id": "737eed23"
   },
   "source": [
    "Esta notebook elaborada por la cátedra es para trabajar el teorema de descomposición espectral."
   ]
  },
  {
   "cell_type": "code",
   "execution_count": 2,
   "id": "93402f35",
   "metadata": {
    "id": "93402f35"
   },
   "outputs": [],
   "source": [
    "# Cargamos NumPy.\n",
    "import numpy as np\n",
    "# Cargamos Sympy\n",
    "#from sympy import Matrix\n",
    "#from sympy.matrices import zeros\n",
    "#from sympy import shape\n",
    "from sympy import *"
   ]
  },
  {
   "cell_type": "markdown",
   "id": "a5d301d2",
   "metadata": {},
   "source": [
    "## Ejemplo 1\n",
    "\n",
    "$A = \\begin{pmatrix} \\frac{5}{2} & -1 \\\\ -1 & \\frac{5}{2} \\end{pmatrix}$\n"
   ]
  },
  {
   "cell_type": "code",
   "execution_count": 3,
   "id": "ee8dc201",
   "metadata": {},
   "outputs": [],
   "source": [
    "I = eye(2)\n",
    "e1 = Matrix([1,0])\n",
    "e2 = Matrix([0,1])"
   ]
  },
  {
   "cell_type": "code",
   "execution_count": 4,
   "id": "ac75b00a",
   "metadata": {},
   "outputs": [
    {
     "data": {
      "text/latex": [
       "$\\displaystyle \\left[\\begin{matrix}2.5 & -1\\\\-1 & 2.5\\end{matrix}\\right]$"
      ],
      "text/plain": [
       "Matrix([\n",
       "[2.5,  -1],\n",
       "[ -1, 2.5]])"
      ]
     },
     "execution_count": 4,
     "metadata": {},
     "output_type": "execute_result"
    }
   ],
   "source": [
    "A = zeros(2)\n",
    "A[0,0] = 5/2\n",
    "A[0,1] = -1\n",
    "A[1,0] = -1\n",
    "A[1,1] = 5/2\n",
    "A"
   ]
  },
  {
   "cell_type": "code",
   "execution_count": 9,
   "id": "797e03ad",
   "metadata": {},
   "outputs": [
    {
     "data": {
      "text/plain": [
       "{1.50000000000000: 1, 3.50000000000000: 1}"
      ]
     },
     "execution_count": 9,
     "metadata": {},
     "output_type": "execute_result"
    }
   ],
   "source": [
    "A.eigenvals()"
   ]
  },
  {
   "cell_type": "code",
   "execution_count": 15,
   "id": "9e75f0e2",
   "metadata": {},
   "outputs": [],
   "source": [
    "C,J = A.jordan_form()"
   ]
  },
  {
   "cell_type": "code",
   "execution_count": 16,
   "id": "79f05bd2",
   "metadata": {},
   "outputs": [
    {
     "data": {
      "text/latex": [
       "$\\displaystyle \\left[\\begin{matrix}1.0 & -1.0\\\\1.0 & 1.0\\end{matrix}\\right]$"
      ],
      "text/plain": [
       "Matrix([\n",
       "[1.0, -1.0],\n",
       "[1.0,  1.0]])"
      ]
     },
     "execution_count": 16,
     "metadata": {},
     "output_type": "execute_result"
    }
   ],
   "source": [
    "C"
   ]
  },
  {
   "cell_type": "code",
   "execution_count": 17,
   "id": "39cff0af",
   "metadata": {},
   "outputs": [
    {
     "data": {
      "text/latex": [
       "$\\displaystyle \\left[\\begin{matrix}1.5 & 0\\\\0 & 3.5\\end{matrix}\\right]$"
      ],
      "text/plain": [
       "Matrix([\n",
       "[1.5,   0],\n",
       "[  0, 3.5]])"
      ]
     },
     "execution_count": 17,
     "metadata": {},
     "output_type": "execute_result"
    }
   ],
   "source": [
    "J"
   ]
  },
  {
   "cell_type": "code",
   "execution_count": 115,
   "id": "8740d95f",
   "metadata": {},
   "outputs": [
    {
     "data": {
      "text/plain": [
       "False"
      ]
     },
     "execution_count": 115,
     "metadata": {},
     "output_type": "execute_result"
    }
   ],
   "source": [
    "C.is_hermitian"
   ]
  },
  {
   "cell_type": "code",
   "execution_count": 37,
   "id": "6583c8dd",
   "metadata": {},
   "outputs": [
    {
     "data": {
      "text/plain": [
       "False"
      ]
     },
     "execution_count": 37,
     "metadata": {},
     "output_type": "execute_result"
    }
   ],
   "source": [
    "C.inverse_ADJ() == C.transpose()"
   ]
  },
  {
   "cell_type": "code",
   "execution_count": 22,
   "id": "daf1ce77",
   "metadata": {},
   "outputs": [
    {
     "data": {
      "text/latex": [
       "$\\displaystyle \\left[\\begin{matrix}1.0\\\\1\\end{matrix}\\right]$"
      ],
      "text/plain": [
       "Matrix([\n",
       "[1.0],\n",
       "[  1]])"
      ]
     },
     "execution_count": 22,
     "metadata": {},
     "output_type": "execute_result"
    }
   ],
   "source": [
    "v1 = ((A-1.5 * I).nullspace())[0]\n",
    "v1"
   ]
  },
  {
   "cell_type": "code",
   "execution_count": 23,
   "id": "d33d256d",
   "metadata": {},
   "outputs": [
    {
     "data": {
      "text/latex": [
       "$\\displaystyle \\left[\\begin{matrix}-1.0\\\\1\\end{matrix}\\right]$"
      ],
      "text/plain": [
       "Matrix([\n",
       "[-1.0],\n",
       "[   1]])"
      ]
     },
     "execution_count": 23,
     "metadata": {},
     "output_type": "execute_result"
    }
   ],
   "source": [
    "v2 = ((A-3.5 * I).nullspace())[0]\n",
    "v2"
   ]
  },
  {
   "cell_type": "code",
   "execution_count": 56,
   "id": "962926b9",
   "metadata": {},
   "outputs": [
    {
     "data": {
      "text/latex": [
       "$\\displaystyle \\left[\\begin{matrix}0.707106781186547\\\\0.707106781186547\\end{matrix}\\right]$"
      ],
      "text/plain": [
       "Matrix([\n",
       "[0.707106781186547],\n",
       "[0.707106781186547]])"
      ]
     },
     "execution_count": 56,
     "metadata": {},
     "output_type": "execute_result"
    }
   ],
   "source": [
    "n1 = sqrt((v1.transpose() * v1)[0])\n",
    "w1 = (1/n1) * v1\n",
    "w1 = Matrix(w1)\n",
    "w1"
   ]
  },
  {
   "cell_type": "code",
   "execution_count": 57,
   "id": "389c2496",
   "metadata": {},
   "outputs": [
    {
     "data": {
      "text/latex": [
       "$\\displaystyle \\left[\\begin{matrix}-0.707106781186547\\\\0.707106781186547\\end{matrix}\\right]$"
      ],
      "text/plain": [
       "Matrix([\n",
       "[-0.707106781186547],\n",
       "[ 0.707106781186547]])"
      ]
     },
     "execution_count": 57,
     "metadata": {},
     "output_type": "execute_result"
    }
   ],
   "source": [
    "n2 = sqrt((v2.transpose() * v2)[0])\n",
    "w2 = (1/n2) * v2\n",
    "w2 = Matrix(w2)\n",
    "w2"
   ]
  },
  {
   "cell_type": "code",
   "execution_count": 59,
   "id": "3a949804",
   "metadata": {},
   "outputs": [
    {
     "data": {
      "text/latex": [
       "$\\displaystyle \\left[\\begin{matrix}0.707106781186547 & -0.707106781186547\\\\0.707106781186547 & 0.707106781186547\\end{matrix}\\right]$"
      ],
      "text/plain": [
       "Matrix([\n",
       "[0.707106781186547, -0.707106781186547],\n",
       "[0.707106781186547,  0.707106781186547]])"
      ]
     },
     "execution_count": 59,
     "metadata": {},
     "output_type": "execute_result"
    }
   ],
   "source": [
    "N = Matrix([w1.transpose(),w2.transpose()]).transpose()\n",
    "N"
   ]
  },
  {
   "cell_type": "markdown",
   "id": "ea1aaecb",
   "metadata": {},
   "source": [
    "Da falso pero es V."
   ]
  },
  {
   "cell_type": "code",
   "execution_count": 70,
   "id": "3dfd8ab4",
   "metadata": {},
   "outputs": [
    {
     "data": {
      "text/plain": [
       "False"
      ]
     },
     "execution_count": 70,
     "metadata": {},
     "output_type": "execute_result"
    }
   ],
   "source": [
    "N.inverse_ADJ() == N.transpose()"
   ]
  },
  {
   "cell_type": "code",
   "execution_count": 72,
   "id": "f2898b79",
   "metadata": {},
   "outputs": [
    {
     "data": {
      "text/latex": [
       "$\\displaystyle \\left[\\begin{matrix}0.707106781186548 & 0.707106781186548\\\\-0.707106781186548 & 0.707106781186548\\end{matrix}\\right]$"
      ],
      "text/plain": [
       "Matrix([\n",
       "[ 0.707106781186548, 0.707106781186548],\n",
       "[-0.707106781186548, 0.707106781186548]])"
      ]
     },
     "execution_count": 72,
     "metadata": {},
     "output_type": "execute_result"
    }
   ],
   "source": [
    "N.inverse_ADJ()"
   ]
  },
  {
   "cell_type": "code",
   "execution_count": 67,
   "id": "7365a5f1",
   "metadata": {},
   "outputs": [
    {
     "data": {
      "text/latex": [
       "$\\displaystyle \\left[\\begin{matrix}0.707106781186547 & 0.707106781186547\\\\-0.707106781186547 & 0.707106781186547\\end{matrix}\\right]$"
      ],
      "text/plain": [
       "Matrix([\n",
       "[ 0.707106781186547, 0.707106781186547],\n",
       "[-0.707106781186547, 0.707106781186547]])"
      ]
     },
     "execution_count": 67,
     "metadata": {},
     "output_type": "execute_result"
    }
   ],
   "source": [
    "N.transpose()"
   ]
  },
  {
   "cell_type": "markdown",
   "id": "3fc457d2",
   "metadata": {},
   "source": [
    "Otra forma es haciendo el llamado SVD (descomposición en valores singulares, que sirve más generalmente para matrices no cuadradas, pero que en nuestro caso es exactamente descomposición espectral)."
   ]
  },
  {
   "cell_type": "code",
   "execution_count": 10,
   "id": "a354e855",
   "metadata": {},
   "outputs": [
    {
     "data": {
      "text/plain": [
       "(Matrix([\n",
       " [-0.707106781186548,  0.707106781186547],\n",
       " [-0.707106781186548, -0.707106781186547]]),\n",
       " Matrix([\n",
       " [1.5,   0],\n",
       " [  0, 3.5]]),\n",
       " Matrix([\n",
       " [-0.707106781186548,  0.707106781186548],\n",
       " [-0.707106781186548, -0.707106781186548]]))"
      ]
     },
     "execution_count": 10,
     "metadata": {},
     "output_type": "execute_result"
    }
   ],
   "source": [
    "A.singular_value_decomposition()"
   ]
  },
  {
   "cell_type": "markdown",
   "id": "126a098c",
   "metadata": {},
   "source": [
    "## Ejemplo 2"
   ]
  },
  {
   "cell_type": "code",
   "execution_count": 86,
   "id": "cb3d6710",
   "metadata": {},
   "outputs": [
    {
     "data": {
      "text/latex": [
       "$\\displaystyle \\left[\\begin{matrix}2 & 0 & 2 & 0\\\\0 & -1 & 0 & 1\\\\2 & 0 & -1 & 0\\\\0 & 1 & 0 & -1\\end{matrix}\\right]$"
      ],
      "text/plain": [
       "Matrix([\n",
       "[2,  0,  2,  0],\n",
       "[0, -1,  0,  1],\n",
       "[2,  0, -1,  0],\n",
       "[0,  1,  0, -1]])"
      ]
     },
     "execution_count": 86,
     "metadata": {},
     "output_type": "execute_result"
    }
   ],
   "source": [
    "A = zeros(4)\n",
    "A[0,0] = 2\n",
    "A[0,2] = 2\n",
    "A[1,1] = -1\n",
    "A[1,3] = 1\n",
    "A[2,0] = 2\n",
    "A[2,2] = -1\n",
    "A[3,1] = 1\n",
    "A[3,3] = -1\n",
    "A"
   ]
  },
  {
   "cell_type": "code",
   "execution_count": 87,
   "id": "35ee5748",
   "metadata": {},
   "outputs": [
    {
     "data": {
      "text/plain": [
       "(Matrix([\n",
       " [   sqrt(5)/5,          0, 2*sqrt(5)/5],\n",
       " [           0,  sqrt(2)/2,           0],\n",
       " [-2*sqrt(5)/5,          0,   sqrt(5)/5],\n",
       " [           0, -sqrt(2)/2,           0]]),\n",
       " Matrix([\n",
       " [2, 0, 0],\n",
       " [0, 2, 0],\n",
       " [0, 0, 3]]),\n",
       " Matrix([\n",
       " [ -sqrt(5)/5,          0, 2*sqrt(5)/5],\n",
       " [          0, -sqrt(2)/2,           0],\n",
       " [2*sqrt(5)/5,          0,   sqrt(5)/5],\n",
       " [          0,  sqrt(2)/2,           0]]))"
      ]
     },
     "execution_count": 87,
     "metadata": {},
     "output_type": "execute_result"
    }
   ],
   "source": [
    "A.singular_value_decomposition()"
   ]
  },
  {
   "cell_type": "markdown",
   "id": "10eba1ea",
   "metadata": {},
   "source": [
    "En este caso no nos sirve porque nos devuelve una matriz diagonal 3x3 y dos matrices 4x3 y 3x4."
   ]
  },
  {
   "cell_type": "code",
   "execution_count": 105,
   "id": "af54fc9d",
   "metadata": {},
   "outputs": [],
   "source": [
    "C, J = A.jordan_form()"
   ]
  },
  {
   "cell_type": "code",
   "execution_count": 106,
   "id": "2a87ced8",
   "metadata": {},
   "outputs": [
    {
     "data": {
      "text/latex": [
       "$\\displaystyle \\left[\\begin{matrix}-2 & 0 & 0 & 0\\\\0 & -2 & 0 & 0\\\\0 & 0 & 0 & 0\\\\0 & 0 & 0 & 3\\end{matrix}\\right]$"
      ],
      "text/plain": [
       "Matrix([\n",
       "[-2,  0, 0, 0],\n",
       "[ 0, -2, 0, 0],\n",
       "[ 0,  0, 0, 0],\n",
       "[ 0,  0, 0, 3]])"
      ]
     },
     "execution_count": 106,
     "metadata": {},
     "output_type": "execute_result"
    }
   ],
   "source": [
    "J"
   ]
  },
  {
   "cell_type": "code",
   "execution_count": 107,
   "id": "e2fa1a43",
   "metadata": {},
   "outputs": [
    {
     "data": {
      "text/latex": [
       "$\\displaystyle \\left[\\begin{matrix}- \\frac{1}{2} & 0 & 0 & 2\\\\0 & -1 & 1 & 0\\\\1 & 0 & 0 & 1\\\\0 & 1 & 1 & 0\\end{matrix}\\right]$"
      ],
      "text/plain": [
       "Matrix([\n",
       "[-1/2,  0, 0, 2],\n",
       "[   0, -1, 1, 0],\n",
       "[   1,  0, 0, 1],\n",
       "[   0,  1, 1, 0]])"
      ]
     },
     "execution_count": 107,
     "metadata": {},
     "output_type": "execute_result"
    }
   ],
   "source": [
    "C"
   ]
  },
  {
   "cell_type": "code",
   "execution_count": 110,
   "id": "3e838367",
   "metadata": {},
   "outputs": [
    {
     "data": {
      "text/plain": [
       "False"
      ]
     },
     "execution_count": 110,
     "metadata": {},
     "output_type": "execute_result"
    }
   ],
   "source": [
    "C.is_hermitian"
   ]
  },
  {
   "cell_type": "markdown",
   "id": "7517e71d",
   "metadata": {},
   "source": [
    "EJERCICIO: ortogonalizar la matriz de cambio de base y chequear la descomposición espectral."
   ]
  },
  {
   "cell_type": "markdown",
   "id": "f9f4d415",
   "metadata": {},
   "source": [
    "---\n",
    "Estas notebooks fueron confeccionadas pa ra la asignatura Álgebra Lineal correspondiente al primer cuatrimestre de segundo año de la Licenciatura en Cs. de la Computación y al redictado para la Licenciatura en Matemática y el Profesorado en Matemática de la Escuela de Cs. Exactas y Naturales de la Facultad de Cs. Exactas, Ingeniería y Agrimensura. La docente responsable es Isolda E. Cardoso (isolda@fceia.unr.edu.ar)\n",
    "\n",
    "En caso de reproducirlas, se solicita citar la fuente."
   ]
  },
  {
   "cell_type": "code",
   "execution_count": null,
   "id": "c1f8c120",
   "metadata": {},
   "outputs": [],
   "source": []
  }
 ],
 "metadata": {
  "colab": {
   "provenance": []
  },
  "kernelspec": {
   "display_name": "Python 3 (ipykernel)",
   "language": "python",
   "name": "python3"
  },
  "language_info": {
   "codemirror_mode": {
    "name": "ipython",
    "version": 3
   },
   "file_extension": ".py",
   "mimetype": "text/x-python",
   "name": "python",
   "nbconvert_exporter": "python",
   "pygments_lexer": "ipython3",
   "version": "3.9.6"
  }
 },
 "nbformat": 4,
 "nbformat_minor": 5
}
